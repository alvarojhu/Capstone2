{
 "cells": [
  {
   "cell_type": "code",
   "execution_count": 2,
   "metadata": {},
   "outputs": [],
   "source": [
    "%matplotlib inline\n",
    "import numpy as np\n",
    "import scipy as sp\n",
    "import matplotlib as mpl\n",
    "import matplotlib.cm as cm\n",
    "import matplotlib.pyplot as plt\n",
    "import pandas as pd\n",
    "import seaborn as sns\n",
    "from six.moves import range\n",
    "\n",
    "# Setup Pandas\n",
    "pd.set_option('display.width', 500)\n",
    "pd.set_option('display.max_columns', 100)\n",
    "pd.set_option('display.notebook_repr_html', True)\n",
    "\n",
    "# Setup Seaborn\n",
    "sns.set_style(\"whitegrid\")\n",
    "sns.set_context(\"poster\")"
   ]
  },
  {
   "cell_type": "code",
   "execution_count": 3,
   "metadata": {},
   "outputs": [],
   "source": [
    "reviews = pd.read_csv('reviews.csv')"
   ]
  },
  {
   "cell_type": "code",
   "execution_count": 4,
   "metadata": {},
   "outputs": [],
   "source": [
    "reviews.drop('Unnamed: 0', axis = 1, inplace = True)"
   ]
  },
  {
   "cell_type": "markdown",
   "metadata": {},
   "source": [
    "Looking through the data, I found that some reviews repeat themselves for the apps. So I'll drop any duplicates if the App and the Translated Review is the same "
   ]
  },
  {
   "cell_type": "code",
   "execution_count": 5,
   "metadata": {},
   "outputs": [],
   "source": [
    "reviews.drop_duplicates(subset=['App','Translated_Review'],inplace = True, )"
   ]
  },
  {
   "cell_type": "code",
   "execution_count": 6,
   "metadata": {},
   "outputs": [],
   "source": [
    "reviews['Translated_Review'] = [s.lower() for s in reviews['Translated_Review']]"
   ]
  },
  {
   "cell_type": "code",
   "execution_count": 7,
   "metadata": {},
   "outputs": [
    {
     "data": {
      "text/html": [
       "<div>\n",
       "<style scoped>\n",
       "    .dataframe tbody tr th:only-of-type {\n",
       "        vertical-align: middle;\n",
       "    }\n",
       "\n",
       "    .dataframe tbody tr th {\n",
       "        vertical-align: top;\n",
       "    }\n",
       "\n",
       "    .dataframe thead th {\n",
       "        text-align: right;\n",
       "    }\n",
       "</style>\n",
       "<table border=\"1\" class=\"dataframe\">\n",
       "  <thead>\n",
       "    <tr style=\"text-align: right;\">\n",
       "      <th></th>\n",
       "      <th>App</th>\n",
       "      <th>Translated_Review</th>\n",
       "      <th>Sentiment</th>\n",
       "      <th>Sentiment_Polarity</th>\n",
       "      <th>Sentiment_Subjectivity</th>\n",
       "    </tr>\n",
       "  </thead>\n",
       "  <tbody>\n",
       "    <tr>\n",
       "      <th>971</th>\n",
       "      <td>8 Ball Pool</td>\n",
       "      <td>would better 8 ball break win rather spotted b...</td>\n",
       "      <td>Positive</td>\n",
       "      <td>0.525000</td>\n",
       "      <td>0.325000</td>\n",
       "    </tr>\n",
       "    <tr>\n",
       "      <th>972</th>\n",
       "      <td>8 Ball Pool</td>\n",
       "      <td>it always makes winner opponent network issue....</td>\n",
       "      <td>Negative</td>\n",
       "      <td>-0.800000</td>\n",
       "      <td>0.900000</td>\n",
       "    </tr>\n",
       "    <tr>\n",
       "      <th>973</th>\n",
       "      <td>8 Ball Pool</td>\n",
       "      <td>loved game until i update. now open even allow...</td>\n",
       "      <td>Negative</td>\n",
       "      <td>-0.009821</td>\n",
       "      <td>0.607143</td>\n",
       "    </tr>\n",
       "    <tr>\n",
       "      <th>974</th>\n",
       "      <td>8 Ball Pool</td>\n",
       "      <td>it's pretty good game i noticed need pay way m...</td>\n",
       "      <td>Positive</td>\n",
       "      <td>0.190000</td>\n",
       "      <td>0.480000</td>\n",
       "    </tr>\n",
       "    <tr>\n",
       "      <th>975</th>\n",
       "      <td>8 Ball Pool</td>\n",
       "      <td>spins nd purchases r rigged developer. the scr...</td>\n",
       "      <td>Positive</td>\n",
       "      <td>0.186667</td>\n",
       "      <td>0.513333</td>\n",
       "    </tr>\n",
       "    <tr>\n",
       "      <th>976</th>\n",
       "      <td>8 Ball Pool</td>\n",
       "      <td>ever since i updated, i've losing games time r...</td>\n",
       "      <td>Negative</td>\n",
       "      <td>-0.236458</td>\n",
       "      <td>0.508333</td>\n",
       "    </tr>\n",
       "    <tr>\n",
       "      <th>977</th>\n",
       "      <td>8 Ball Pool</td>\n",
       "      <td>fun game cue upgrades little things take beyon...</td>\n",
       "      <td>Negative</td>\n",
       "      <td>-0.057500</td>\n",
       "      <td>0.460000</td>\n",
       "    </tr>\n",
       "    <tr>\n",
       "      <th>978</th>\n",
       "      <td>8 Ball Pool</td>\n",
       "      <td>sir new update awesome u solve issues issue pl...</td>\n",
       "      <td>Positive</td>\n",
       "      <td>0.409091</td>\n",
       "      <td>0.505303</td>\n",
       "    </tr>\n",
       "    <tr>\n",
       "      <th>979</th>\n",
       "      <td>8 Ball Pool</td>\n",
       "      <td>great addictive game... one thing guys improve...</td>\n",
       "      <td>Positive</td>\n",
       "      <td>0.100000</td>\n",
       "      <td>0.662500</td>\n",
       "    </tr>\n",
       "    <tr>\n",
       "      <th>980</th>\n",
       "      <td>8 Ball Pool</td>\n",
       "      <td>lovely game. with lovely graphics controls. if...</td>\n",
       "      <td>Positive</td>\n",
       "      <td>0.121429</td>\n",
       "      <td>0.621429</td>\n",
       "    </tr>\n",
       "  </tbody>\n",
       "</table>\n",
       "</div>"
      ],
      "text/plain": [
       "             App                                  Translated_Review Sentiment  Sentiment_Polarity  Sentiment_Subjectivity\n",
       "971  8 Ball Pool  would better 8 ball break win rather spotted b...  Positive            0.525000                0.325000\n",
       "972  8 Ball Pool  it always makes winner opponent network issue....  Negative           -0.800000                0.900000\n",
       "973  8 Ball Pool  loved game until i update. now open even allow...  Negative           -0.009821                0.607143\n",
       "974  8 Ball Pool  it's pretty good game i noticed need pay way m...  Positive            0.190000                0.480000\n",
       "975  8 Ball Pool  spins nd purchases r rigged developer. the scr...  Positive            0.186667                0.513333\n",
       "976  8 Ball Pool  ever since i updated, i've losing games time r...  Negative           -0.236458                0.508333\n",
       "977  8 Ball Pool  fun game cue upgrades little things take beyon...  Negative           -0.057500                0.460000\n",
       "978  8 Ball Pool  sir new update awesome u solve issues issue pl...  Positive            0.409091                0.505303\n",
       "979  8 Ball Pool  great addictive game... one thing guys improve...  Positive            0.100000                0.662500\n",
       "980  8 Ball Pool  lovely game. with lovely graphics controls. if...  Positive            0.121429                0.621429"
      ]
     },
     "execution_count": 7,
     "metadata": {},
     "output_type": "execute_result"
    }
   ],
   "source": [
    "reviews[690:700]"
   ]
  },
  {
   "cell_type": "code",
   "execution_count": 8,
   "metadata": {},
   "outputs": [],
   "source": [
    "labels = [1,1,1,1,1,1,1,1,1,1,1,1,1,1,1,1,1,1,1,1,1,1,1,1,1,1,1,1,1,0,1,1,1,1,1,0,1,1,1,1\\\n",
    "         ,0,1,1,1,1,1,1,1,1,1,1,1,1,1,1,1,1,1,1,1,1,0,1,1,1,0,1,1,1,1,1,1,1,1,1,1,1,1,1,1\\\n",
    "         ,0,1,1,1,1,1,1,1,0,1,0,1,1,0,1,1,1,1,1,1,1,1,1,1,1,1,1,1,1,1,1,1,1,1,0,1,1,1,1,1\\\n",
    "         ,1,1,1,1,1,1,1,1,1,1,1,0,1,1,0,0,1,0,1,1,1,0,0,1,0,1,1,0,1,1,0,1,1,0,1,1,0,1,0,1\\\n",
    "         ,0,1,1,1,0,1,0,0,1,0,1,0,1,1,1,1,1,1,1,1,1,1,1,1,1,1,1,1,1,1,1,1,1,1,1,1,1,1,1,1\\\n",
    "         ,0,1,1,1,1,1,1,1,1,1,0,1,1,1,0,1,1,1,1,1,1,0,1,1,1,1,1,0,1,1,1,1,1,1,1,1,1,1,1,1\\\n",
    "         ,1,1,1,1,1,1,1,0,0,1,1,0,0,1,1,1,1,1,1,1,0,1,1,0,1,1,1,1,1,1,1,1,1,0,1,1,1,0,0,1\\\n",
    "         ,1,1,1,0,1,1,0,1,1,1,1,0,1,0,1,1,1,1,0,1,1,1,1,1,1,1,1,1,1,1,1,1,1,1,1,1,1,1,1,1\\\n",
    "         ,1,0,0,1,1,1,1,1,1,1,0,0,0,1,1,0,0,1,1,1,1,0,0,1,1,1,0,0,0,1,1,1,1,1,1,1,1,1,1,0\\\n",
    "         ,1,1,0,1,0,0,1,1,1,1,1,0,1,0,1,1,1,1,1,0,1,1,1,1,1,0,1,1,1,0,1,1,1,1,1,1,1,1,1,1\\\n",
    "         ,1,1,1,1,1,1,1,1,1,0,1,1,1,1,1,1,1,1,1,0,0,1,1,0,1,1,0,1,1,0,0,1,1,0,1,1,1,1,1,1\\\n",
    "         ,1,1,0,0,0,0,0,0,0,0,0,1,0,0,0,0,0,0,0,0,1,0,1,0,1,1,0,0,0,1,1,1,1,1,1,1,1,0,1,1\\\n",
    "         ,1,1,1,1,1,1,0,1,1,1,1,1,1,1,1,0,1,1,1,1,1,1,1,1,1,0,1,1,1,1,1,1,1,1,1,1,1,1,1,1\\\n",
    "         ,1,0,1,0,0,1,1,1,1,1,1,1,1,1,1,1,1,1,1,1,0,1,1,0,1,1,0,0,0,0,1,0,1,1,0,0,1,0,0,0\\\n",
    "         ,1,1,1,0,1,1,1,1,1,1,0,0,1,1,1,0,0,0,0,0,1,0,1,1,1,1,1,1,1,1,1,1,1,0,0,1,1,1,1,1\\\n",
    "         ,1,1,1,1,1,1,1,1,0,0,1,0,0,1,0,1,1,1,1,0,1,1,1,0,0,1,1,1,1,0,1,1,1,1,1,0,1,1,1,1\\\n",
    "         ,1,1,1,1,0,0,1,0,1,1,0,1,0,1,1,0,1,1,0,0,1,0,1,1,1,1,1,1,1,1,1,1,0,1,1,1,1,1,1,1\\\n",
    "         ,1,1,1,1,1,1,0,0,0,1,1,0,0,1,0,0,1,1,1,1]"
   ]
  },
  {
   "cell_type": "code",
   "execution_count": 9,
   "metadata": {},
   "outputs": [],
   "source": [
    "with_labels = reviews[0:700]"
   ]
  },
  {
   "cell_type": "code",
   "execution_count": 10,
   "metadata": {},
   "outputs": [
    {
     "name": "stderr",
     "output_type": "stream",
     "text": [
      "C:\\Users\\miste\\Miniconda3\\envs\\py36\\lib\\site-packages\\ipykernel_launcher.py:1: SettingWithCopyWarning: \n",
      "A value is trying to be set on a copy of a slice from a DataFrame.\n",
      "Try using .loc[row_indexer,col_indexer] = value instead\n",
      "\n",
      "See the caveats in the documentation: http://pandas.pydata.org/pandas-docs/stable/indexing.html#indexing-view-versus-copy\n",
      "  \"\"\"Entry point for launching an IPython kernel.\n"
     ]
    }
   ],
   "source": [
    "with_labels['Label'] = labels"
   ]
  },
  {
   "cell_type": "code",
   "execution_count": 11,
   "metadata": {},
   "outputs": [
    {
     "data": {
      "text/html": [
       "<div>\n",
       "<style scoped>\n",
       "    .dataframe tbody tr th:only-of-type {\n",
       "        vertical-align: middle;\n",
       "    }\n",
       "\n",
       "    .dataframe tbody tr th {\n",
       "        vertical-align: top;\n",
       "    }\n",
       "\n",
       "    .dataframe thead th {\n",
       "        text-align: right;\n",
       "    }\n",
       "</style>\n",
       "<table border=\"1\" class=\"dataframe\">\n",
       "  <thead>\n",
       "    <tr style=\"text-align: right;\">\n",
       "      <th></th>\n",
       "      <th>App</th>\n",
       "      <th>Translated_Review</th>\n",
       "      <th>Sentiment</th>\n",
       "      <th>Sentiment_Polarity</th>\n",
       "      <th>Sentiment_Subjectivity</th>\n",
       "      <th>Label</th>\n",
       "    </tr>\n",
       "  </thead>\n",
       "  <tbody>\n",
       "    <tr>\n",
       "      <th>0</th>\n",
       "      <td>10 Best Foods for You</td>\n",
       "      <td>i like eat delicious food. that's i'm cooking ...</td>\n",
       "      <td>Positive</td>\n",
       "      <td>1.00</td>\n",
       "      <td>0.533333</td>\n",
       "      <td>1</td>\n",
       "    </tr>\n",
       "    <tr>\n",
       "      <th>1</th>\n",
       "      <td>10 Best Foods for You</td>\n",
       "      <td>this help eating healthy exercise regular basis</td>\n",
       "      <td>Positive</td>\n",
       "      <td>0.25</td>\n",
       "      <td>0.288462</td>\n",
       "      <td>1</td>\n",
       "    </tr>\n",
       "    <tr>\n",
       "      <th>2</th>\n",
       "      <td>10 Best Foods for You</td>\n",
       "      <td>works great especially going grocery store</td>\n",
       "      <td>Positive</td>\n",
       "      <td>0.40</td>\n",
       "      <td>0.875000</td>\n",
       "      <td>1</td>\n",
       "    </tr>\n",
       "    <tr>\n",
       "      <th>3</th>\n",
       "      <td>10 Best Foods for You</td>\n",
       "      <td>best idea us</td>\n",
       "      <td>Positive</td>\n",
       "      <td>1.00</td>\n",
       "      <td>0.300000</td>\n",
       "      <td>1</td>\n",
       "    </tr>\n",
       "    <tr>\n",
       "      <th>4</th>\n",
       "      <td>10 Best Foods for You</td>\n",
       "      <td>best way</td>\n",
       "      <td>Positive</td>\n",
       "      <td>1.00</td>\n",
       "      <td>0.300000</td>\n",
       "      <td>1</td>\n",
       "    </tr>\n",
       "  </tbody>\n",
       "</table>\n",
       "</div>"
      ],
      "text/plain": [
       "                     App                                  Translated_Review Sentiment  Sentiment_Polarity  Sentiment_Subjectivity  Label\n",
       "0  10 Best Foods for You  i like eat delicious food. that's i'm cooking ...  Positive                1.00                0.533333      1\n",
       "1  10 Best Foods for You    this help eating healthy exercise regular basis  Positive                0.25                0.288462      1\n",
       "2  10 Best Foods for You         works great especially going grocery store  Positive                0.40                0.875000      1\n",
       "3  10 Best Foods for You                                       best idea us  Positive                1.00                0.300000      1\n",
       "4  10 Best Foods for You                                           best way  Positive                1.00                0.300000      1"
      ]
     },
     "execution_count": 11,
     "metadata": {},
     "output_type": "execute_result"
    }
   ],
   "source": [
    "with_labels.head()"
   ]
  },
  {
   "cell_type": "code",
   "execution_count": 12,
   "metadata": {},
   "outputs": [
    {
     "data": {
      "image/png": "[encoded data removed]",
      "text/plain": [
       "<Figure size 432x288 with 1 Axes>"
      ]
     },
     "metadata": {},
     "output_type": "display_data"
    }
   ],
   "source": [
    "_ = sns.countplot(x = 'Label', data = with_labels) "
   ]
  },
  {
   "cell_type": "markdown",
   "metadata": {},
   "source": [
    "Generally, there is said to be a class imbalance if there is a 10 to 1 ratio for one of the classes, but as you can see above, that is not the case in this dataset."
   ]
  },
  {
   "cell_type": "code",
   "execution_count": 13,
   "metadata": {},
   "outputs": [],
   "source": [
    "from sklearn.feature_extraction.text import CountVectorizer\n"
   ]
  },
  {
   "cell_type": "code",
   "execution_count": 17,
   "metadata": {},
   "outputs": [],
   "source": [
    "import nltk\n",
    "from nltk import word_tokenize \n",
    "from nltk.stem import WordNetLemmatizer \n",
    "class LemmaTokenizer(object):\n",
    "    def __init__(self):\n",
    "        self.wnl = WordNetLemmatizer()\n",
    "    def __call__(self, articles):\n",
    "        return [self.wnl.lemmatize(t) for t in word_tokenize(articles)]"
   ]
  },
  {
   "cell_type": "code",
   "execution_count": 18,
   "metadata": {},
   "outputs": [
    {
     "name": "stdout",
     "output_type": "stream",
     "text": [
      "[nltk_data] Downloading package wordnet to\n",
      "[nltk_data]     C:\\Users\\miste\\AppData\\Roaming\\nltk_data...\n",
      "[nltk_data]   Unzipping corpora\\wordnet.zip.\n"
     ]
    },
    {
     "data": {
      "text/plain": [
       "True"
      ]
     },
     "execution_count": 18,
     "metadata": {},
     "output_type": "execute_result"
    }
   ],
   "source": [
    "nltk.download('wordnet')"
   ]
  },
  {
   "cell_type": "code",
   "execution_count": 20,
   "metadata": {},
   "outputs": [],
   "source": [
    "vectorizer = CountVectorizer(tokenizer= LemmaTokenizer())\n",
    "X = vectorizer.fit_transform(with_labels.Translated_Review)\n",
    "X = X.tocsc()  \n",
    "y = with_labels.Label.values.astype(np.int)"
   ]
  },
  {
   "cell_type": "code",
   "execution_count": 21,
   "metadata": {},
   "outputs": [
    {
     "data": {
      "text/plain": [
       "array([[0, 0, 0, ..., 0, 0, 0],\n",
       "       [0, 0, 0, ..., 0, 0, 0],\n",
       "       [0, 0, 0, ..., 0, 0, 0],\n",
       "       ...,\n",
       "       [0, 0, 0, ..., 0, 0, 0],\n",
       "       [0, 0, 0, ..., 0, 0, 0],\n",
       "       [0, 0, 0, ..., 0, 0, 0]], dtype=int64)"
      ]
     },
     "execution_count": 21,
     "metadata": {},
     "output_type": "execute_result"
    }
   ],
   "source": [
    "X.toarray()"
   ]
  },
  {
   "cell_type": "code",
   "execution_count": 22,
   "metadata": {},
   "outputs": [
    {
     "data": {
      "text/plain": [
       "(700, 2374)"
      ]
     },
     "execution_count": 22,
     "metadata": {},
     "output_type": "execute_result"
    }
   ],
   "source": [
    "X.shape"
   ]
  },
  {
   "cell_type": "code",
   "execution_count": 23,
   "metadata": {},
   "outputs": [],
   "source": [
    "word_counts = np.count_nonzero(X.toarray(), axis = 0)"
   ]
  },
  {
   "cell_type": "code",
   "execution_count": 24,
   "metadata": {},
   "outputs": [
    {
     "data": {
      "text/plain": [
       "array([  1,   1,   1, ..., 197, 243, 346], dtype=int64)"
      ]
     },
     "execution_count": 24,
     "metadata": {},
     "output_type": "execute_result"
    }
   ],
   "source": [
    "np.sort(word_counts)"
   ]
  },
  {
   "cell_type": "code",
   "execution_count": 25,
   "metadata": {},
   "outputs": [
    {
     "data": {
      "text/plain": [
       "[(1, 1329),\n",
       " (2, 338),\n",
       " (3, 175),\n",
       " (4, 99),\n",
       " (5, 68),\n",
       " (6, 59),\n",
       " (7, 42),\n",
       " (8, 36),\n",
       " (9, 26),\n",
       " (10, 19)]"
      ]
     },
     "execution_count": 25,
     "metadata": {},
     "output_type": "execute_result"
    }
   ],
   "source": [
    "from collections import Counter\n",
    "c = (Counter(np.sort(word_counts))) #1372 words show up once. 339 words show up twice. etc. \n",
    "list(c.items())[:10]"
   ]
  },
  {
   "cell_type": "code",
   "execution_count": 26,
   "metadata": {},
   "outputs": [],
   "source": [
    "z = list(reversed(np.sort(list(Counter(np.sort(word_counts)).values()))))"
   ]
  },
  {
   "cell_type": "code",
   "execution_count": 27,
   "metadata": {},
   "outputs": [],
   "source": [
    "def add_one_by_one(l):\n",
    "    new_l = []\n",
    "    cumsum = 0\n",
    "    for elt in l:\n",
    "        cumsum += elt\n",
    "        new_l.append(cumsum)\n",
    "    return new_l"
   ]
  },
  {
   "cell_type": "code",
   "execution_count": 28,
   "metadata": {},
   "outputs": [],
   "source": [
    "add_z = [x/X.shape[1] for x in add_one_by_one(z)]\n",
    "add_z\n",
    "y_z = np.arange(1, len(add_z)+1) "
   ]
  },
  {
   "cell_type": "code",
   "execution_count": 29,
   "metadata": {},
   "outputs": [
    {
     "data": {
      "image/png": "[encoded data removed]",
      "text/plain": [
       "<Figure size 432x288 with 1 Axes>"
      ]
     },
     "metadata": {},
     "output_type": "display_data"
    }
   ],
   "source": [
    "_ = plt.plot(y_z,add_z)\n",
    "_ = plt.xlabel('Number of Documents')\n",
    "_ = plt.ylabel('Percent of words that show up')\n",
    "_ = plt.margins(0.02)\n"
   ]
  },
  {
   "cell_type": "code",
   "execution_count": 30,
   "metadata": {},
   "outputs": [],
   "source": [
    "best_min_df = 5"
   ]
  },
  {
   "cell_type": "code",
   "execution_count": 31,
   "metadata": {},
   "outputs": [],
   "source": [
    "vectorizer = CountVectorizer(min_df=best_min_df, stop_words= 'english')\n",
    "X = vectorizer.fit_transform(with_labels.Translated_Review)\n",
    "X = X.tocsc()  # some versions of sklearn return COO format\n",
    "y = with_labels.Label.values.astype(np.int)"
   ]
  },
  {
   "cell_type": "code",
   "execution_count": 138,
   "metadata": {},
   "outputs": [],
   "source": [
    "from imblearn.over_sampling import SMOTE\n",
    "from sklearn.model_selection import train_test_split\n",
    "from sklearn.naive_bayes import MultinomialNB, BernoulliNB, GaussianNB"
   ]
  },
  {
   "cell_type": "code",
   "execution_count": 40,
   "metadata": {},
   "outputs": [],
   "source": [
    "X_train, X_test, y_train, y_test = train_test_split(X, y, test_size = 0.3, random_state = 42)"
   ]
  },
  {
   "cell_type": "code",
   "execution_count": 45,
   "metadata": {},
   "outputs": [],
   "source": [
    "multi = MultinomialNB()"
   ]
  },
  {
   "cell_type": "code",
   "execution_count": 46,
   "metadata": {},
   "outputs": [
    {
     "data": {
      "text/plain": [
       "MultinomialNB(alpha=1.0, class_prior=None, fit_prior=True)"
      ]
     },
     "execution_count": 46,
     "metadata": {},
     "output_type": "execute_result"
    }
   ],
   "source": [
    "multi.fit(X_train,y_train)"
   ]
  },
  {
   "cell_type": "code",
   "execution_count": 47,
   "metadata": {},
   "outputs": [
    {
     "data": {
      "text/plain": [
       "39"
      ]
     },
     "execution_count": 47,
     "metadata": {},
     "output_type": "execute_result"
    }
   ],
   "source": [
    "y_pred = multi.predict(X_test)\n",
    "np.sum(np.abs(y_pred - y_test)) "
   ]
  },
  {
   "cell_type": "code",
   "execution_count": 48,
   "metadata": {},
   "outputs": [
    {
     "data": {
      "text/plain": [
       "0.8142857142857143"
      ]
     },
     "execution_count": 48,
     "metadata": {},
     "output_type": "execute_result"
    }
   ],
   "source": [
    "multi.score(X_test, y_test)"
   ]
  },
  {
   "cell_type": "code",
   "execution_count": 49,
   "metadata": {},
   "outputs": [],
   "source": [
    "from sklearn.metrics import confusion_matrix"
   ]
  },
  {
   "cell_type": "code",
   "execution_count": 50,
   "metadata": {},
   "outputs": [],
   "source": [
    "tn, fp, fn, tp = confusion_matrix(y_test, y_pred).ravel()\n",
    "precision = tp/(tp+fp)\n",
    "recall = tp/(tp+fn)"
   ]
  },
  {
   "cell_type": "code",
   "execution_count": 51,
   "metadata": {},
   "outputs": [
    {
     "data": {
      "text/plain": [
       "(17, 24, 15, 154)"
      ]
     },
     "execution_count": 51,
     "metadata": {},
     "output_type": "execute_result"
    }
   ],
   "source": [
    "tn, fp, fn, tp"
   ]
  },
  {
   "cell_type": "code",
   "execution_count": 52,
   "metadata": {},
   "outputs": [
    {
     "name": "stdout",
     "output_type": "stream",
     "text": [
      "Precision =  0.8651685393258427 Recall =  0.9112426035502958\n"
     ]
    }
   ],
   "source": [
    "print (\"Precision = \", precision, \"Recall = \", recall)"
   ]
  },
  {
   "cell_type": "markdown",
   "metadata": {},
   "source": [
    "The precision and recall are pretty good. "
   ]
  },
  {
   "cell_type": "markdown",
   "metadata": {},
   "source": [
    "#### Trying Bernoulli, Logistic Regression, Gaussian NB, and SGD Classifiers to make ensemble"
   ]
  },
  {
   "cell_type": "code",
   "execution_count": 73,
   "metadata": {},
   "outputs": [
    {
     "data": {
      "text/plain": [
       "43"
      ]
     },
     "execution_count": 73,
     "metadata": {},
     "output_type": "execute_result"
    }
   ],
   "source": [
    "bern = BernoulliNB()\n",
    "bern.fit(X_train,y_train)\n",
    "y_pred = bern.predict(X_test)\n",
    "np.sum(np.abs(y_pred - y_test)) "
   ]
  },
  {
   "cell_type": "code",
   "execution_count": 74,
   "metadata": {},
   "outputs": [
    {
     "data": {
      "text/plain": [
       "0.7952380952380952"
      ]
     },
     "execution_count": 74,
     "metadata": {},
     "output_type": "execute_result"
    }
   ],
   "source": [
    "bern.score(X_test, y_test)"
   ]
  },
  {
   "cell_type": "code",
   "execution_count": 75,
   "metadata": {},
   "outputs": [
    {
     "data": {
      "text/plain": [
       "(15, 26, 17, 152)"
      ]
     },
     "execution_count": 75,
     "metadata": {},
     "output_type": "execute_result"
    }
   ],
   "source": [
    "tn, fp, fn, tp = confusion_matrix(y_test, y_pred).ravel()\n",
    "precision = tp/(tp+fp)\n",
    "recall = tp/(tp+fn)\n",
    "tn, fp, fn, tp"
   ]
  },
  {
   "cell_type": "code",
   "execution_count": 76,
   "metadata": {},
   "outputs": [
    {
     "name": "stdout",
     "output_type": "stream",
     "text": [
      "Precision =  0.8539325842696629 Recall =  0.8994082840236687\n"
     ]
    }
   ],
   "source": [
    "print (\"Precision = \", precision, \"Recall = \", recall)"
   ]
  },
  {
   "cell_type": "code",
   "execution_count": 141,
   "metadata": {},
   "outputs": [
    {
     "data": {
      "text/plain": [
       "81"
      ]
     },
     "execution_count": 141,
     "metadata": {},
     "output_type": "execute_result"
    }
   ],
   "source": [
    "GNB = GaussianNB()\n",
    "GNB.fit(X_train.toarray(),y_train)\n",
    "y_pred = GNB.predict(X_test.toarray())\n",
    "np.sum(np.abs(y_pred - y_test)) "
   ]
  },
  {
   "cell_type": "code",
   "execution_count": 145,
   "metadata": {},
   "outputs": [
    {
     "data": {
      "text/plain": [
       "0.6142857142857143"
      ]
     },
     "execution_count": 145,
     "metadata": {},
     "output_type": "execute_result"
    }
   ],
   "source": [
    "GNB.score(X_test.toarray(), y_test)"
   ]
  },
  {
   "cell_type": "code",
   "execution_count": 146,
   "metadata": {},
   "outputs": [
    {
     "data": {
      "text/plain": [
       "(27, 14, 67, 102)"
      ]
     },
     "execution_count": 146,
     "metadata": {},
     "output_type": "execute_result"
    }
   ],
   "source": [
    "tn, fp, fn, tp = confusion_matrix(y_test, y_pred).ravel()\n",
    "precision = tp/(tp+fp)\n",
    "recall = tp/(tp+fn)\n",
    "tn, fp, fn, tp"
   ]
  },
  {
   "cell_type": "code",
   "execution_count": 147,
   "metadata": {},
   "outputs": [
    {
     "name": "stdout",
     "output_type": "stream",
     "text": [
      "Precision =  0.8793103448275862 Recall =  0.6035502958579881\n"
     ]
    }
   ],
   "source": [
    "print (\"Precision = \", precision, \"Recall = \", recall)"
   ]
  },
  {
   "cell_type": "code",
   "execution_count": 176,
   "metadata": {},
   "outputs": [],
   "source": [
    "from sklearn.linear_model import LogisticRegression, SGDClassifier"
   ]
  },
  {
   "cell_type": "code",
   "execution_count": 177,
   "metadata": {},
   "outputs": [
    {
     "name": "stderr",
     "output_type": "stream",
     "text": [
      "C:\\Users\\miste\\Miniconda3\\envs\\py36\\lib\\site-packages\\sklearn\\linear_model\\logistic.py:432: FutureWarning: Default solver will be changed to 'lbfgs' in 0.22. Specify a solver to silence this warning.\n",
      "  FutureWarning)\n"
     ]
    },
    {
     "data": {
      "text/plain": [
       "37"
      ]
     },
     "execution_count": 177,
     "metadata": {},
     "output_type": "execute_result"
    }
   ],
   "source": [
    "LR = LogisticRegression()\n",
    "LR.fit(X_train,y_train)\n",
    "y_pred = LR.predict(X_test)\n",
    "np.sum(np.abs(y_pred - y_test)) "
   ]
  },
  {
   "cell_type": "code",
   "execution_count": 178,
   "metadata": {},
   "outputs": [
    {
     "data": {
      "text/plain": [
       "0.8238095238095238"
      ]
     },
     "execution_count": 178,
     "metadata": {},
     "output_type": "execute_result"
    }
   ],
   "source": [
    "LR.score(X_test, y_test)"
   ]
  },
  {
   "cell_type": "code",
   "execution_count": 179,
   "metadata": {},
   "outputs": [
    {
     "data": {
      "text/plain": [
       "(12, 29, 8, 161)"
      ]
     },
     "execution_count": 179,
     "metadata": {},
     "output_type": "execute_result"
    }
   ],
   "source": [
    "tn, fp, fn, tp = confusion_matrix(y_test, y_pred).ravel()\n",
    "precision = tp/(tp+fp)\n",
    "recall = tp/(tp+fn)\n",
    "tn, fp, fn, tp"
   ]
  },
  {
   "cell_type": "code",
   "execution_count": 180,
   "metadata": {},
   "outputs": [
    {
     "name": "stdout",
     "output_type": "stream",
     "text": [
      "Precision =  0.8473684210526315 Recall =  0.9526627218934911\n"
     ]
    }
   ],
   "source": [
    "print (\"Precision = \", precision, \"Recall = \", recall)"
   ]
  },
  {
   "cell_type": "code",
   "execution_count": 181,
   "metadata": {},
   "outputs": [
    {
     "name": "stderr",
     "output_type": "stream",
     "text": [
      "C:\\Users\\miste\\Miniconda3\\envs\\py36\\lib\\site-packages\\sklearn\\linear_model\\stochastic_gradient.py:144: FutureWarning: max_iter and tol parameters have been added in SGDClassifier in 0.19. If both are left unset, they default to max_iter=5 and tol=None. If tol is not None, max_iter defaults to max_iter=1000. From 0.21, default max_iter will be 1000, and default tol will be 1e-3.\n",
      "  FutureWarning)\n"
     ]
    },
    {
     "data": {
      "text/plain": [
       "47"
      ]
     },
     "execution_count": 181,
     "metadata": {},
     "output_type": "execute_result"
    }
   ],
   "source": [
    "SGD = SGDClassifier()\n",
    "SGD.fit(X_train,y_train)\n",
    "y_pred = SGD.predict(X_test)\n",
    "np.sum(np.abs(y_pred - y_test)) "
   ]
  },
  {
   "cell_type": "code",
   "execution_count": 182,
   "metadata": {},
   "outputs": [
    {
     "data": {
      "text/plain": [
       "0.7761904761904762"
      ]
     },
     "execution_count": 182,
     "metadata": {},
     "output_type": "execute_result"
    }
   ],
   "source": [
    "SGD.score(X_test, y_test)"
   ]
  },
  {
   "cell_type": "code",
   "execution_count": 183,
   "metadata": {},
   "outputs": [
    {
     "data": {
      "text/plain": [
       "(18, 23, 24, 145)"
      ]
     },
     "execution_count": 183,
     "metadata": {},
     "output_type": "execute_result"
    }
   ],
   "source": [
    "tn, fp, fn, tp = confusion_matrix(y_test, y_pred).ravel()\n",
    "precision = tp/(tp+fp)\n",
    "recall = tp/(tp+fn)\n",
    "tn, fp, fn, tp"
   ]
  },
  {
   "cell_type": "code",
   "execution_count": 184,
   "metadata": {},
   "outputs": [
    {
     "name": "stdout",
     "output_type": "stream",
     "text": [
      "Precision =  0.8630952380952381 Recall =  0.8579881656804734\n"
     ]
    }
   ],
   "source": [
    "print (\"Precision = \", precision, \"Recall = \", recall)"
   ]
  },
  {
   "cell_type": "markdown",
   "metadata": {},
   "source": [
    "### Now, I have 5 different classifiers. I will merge these algorithms together and put it to a vote"
   ]
  },
  {
   "cell_type": "code",
   "execution_count": 105,
   "metadata": {},
   "outputs": [],
   "source": [
    "from sklearn.ensemble import VotingClassifier\n",
    "    "
   ]
  },
  {
   "cell_type": "code",
   "execution_count": 199,
   "metadata": {},
   "outputs": [],
   "source": [
    "voted_class = VotingClassifier(estimators=[('MNB', multi),('Bern', bern),('Gauss',GNB),('Logreg',LR),('SGD',SGD)])"
   ]
  },
  {
   "cell_type": "code",
   "execution_count": 221,
   "metadata": {},
   "outputs": [],
   "source": [
    "smote = SMOTE(ratio = 'minority')"
   ]
  },
  {
   "cell_type": "code",
   "execution_count": 39,
   "metadata": {},
   "outputs": [],
   "source": [
    "X_sm, y_sm = smote.fit_sample(X, y) #I now have equal amount of 1s and 0s. "
   ]
  },
  {
   "cell_type": "code",
   "execution_count": 222,
   "metadata": {},
   "outputs": [],
   "source": [
    "X_sm_train, X_sm_test, y_sm_train, y_sm_test = train_test_split(X_sm, y_sm, test_size = 0.3, random_state = 42)"
   ]
  },
  {
   "cell_type": "code",
   "execution_count": 225,
   "metadata": {},
   "outputs": [
    {
     "name": "stderr",
     "output_type": "stream",
     "text": [
      "C:\\Users\\miste\\Miniconda3\\envs\\py36\\lib\\site-packages\\sklearn\\linear_model\\logistic.py:432: FutureWarning: Default solver will be changed to 'lbfgs' in 0.22. Specify a solver to silence this warning.\n",
      "  FutureWarning)\n",
      "C:\\Users\\miste\\Miniconda3\\envs\\py36\\lib\\site-packages\\sklearn\\linear_model\\stochastic_gradient.py:144: FutureWarning: max_iter and tol parameters have been added in SGDClassifier in 0.19. If both are left unset, they default to max_iter=5 and tol=None. If tol is not None, max_iter defaults to max_iter=1000. From 0.21, default max_iter will be 1000, and default tol will be 1e-3.\n",
      "  FutureWarning)\n"
     ]
    },
    {
     "data": {
      "text/plain": [
       "VotingClassifier(estimators=[('MNB', MultinomialNB(alpha=1.0, class_prior=None, fit_prior=True)), ('Bern', BernoulliNB(alpha=1.0, binarize=0.0, class_prior=None, fit_prior=True)), ('Gauss', GaussianNB(priors=None, var_smoothing=1e-09)), ('Logreg', LogisticRegression(C=1.0, class_weight=None, dual=False, fit_intercep...m_state=None, shuffle=True, tol=None,\n",
       "       validation_fraction=0.1, verbose=0, warm_start=False))],\n",
       "         flatten_transform=None, n_jobs=None, voting='hard', weights=None)"
      ]
     },
     "execution_count": 225,
     "metadata": {},
     "output_type": "execute_result"
    }
   ],
   "source": [
    "voted_class.fit(X_sm_train.toarray(), y_sm_train)"
   ]
  },
  {
   "cell_type": "code",
   "execution_count": 226,
   "metadata": {},
   "outputs": [
    {
     "data": {
      "text/plain": [
       "0.8593272171253823"
      ]
     },
     "execution_count": 226,
     "metadata": {},
     "output_type": "execute_result"
    }
   ],
   "source": [
    "voted_class.score(X_sm_test.toarray(),y_sm_test)"
   ]
  },
  {
   "cell_type": "code",
   "execution_count": 228,
   "metadata": {},
   "outputs": [],
   "source": [
    "y_sm_pred = voted_class.predict(X_sm_test.toarray())"
   ]
  },
  {
   "cell_type": "code",
   "execution_count": 229,
   "metadata": {},
   "outputs": [
    {
     "data": {
      "text/plain": [
       "(143, 22, 24, 138)"
      ]
     },
     "execution_count": 229,
     "metadata": {},
     "output_type": "execute_result"
    }
   ],
   "source": [
    "tn, fp, fn, tp = confusion_matrix(y_sm_test, y_sm_pred).ravel()\n",
    "precision = tp/(tp+fp)\n",
    "recall = tp/(tp+fn)\n",
    "tn, fp, fn, tp"
   ]
  },
  {
   "cell_type": "code",
   "execution_count": 230,
   "metadata": {
    "scrolled": true
   },
   "outputs": [
    {
     "name": "stdout",
     "output_type": "stream",
     "text": [
      "Precision =  0.8625 Recall =  0.8518518518518519\n"
     ]
    }
   ],
   "source": [
    "print (\"Precision = \", precision, \"Recall = \", recall)"
   ]
  },
  {
   "cell_type": "code",
   "execution_count": 231,
   "metadata": {},
   "outputs": [],
   "source": [
    "X_full = vectorizer.transform(reviews['Translated_Review'])"
   ]
  },
  {
   "cell_type": "code",
   "execution_count": 232,
   "metadata": {},
   "outputs": [],
   "source": [
    "y_pred_full = voted_class.predict(X_full.toarray())"
   ]
  },
  {
   "cell_type": "code",
   "execution_count": 233,
   "metadata": {},
   "outputs": [
    {
     "data": {
      "text/plain": [
       "7416"
      ]
     },
     "execution_count": 233,
     "metadata": {},
     "output_type": "execute_result"
    }
   ],
   "source": [
    "np.sum(y_pred_full == 0)"
   ]
  },
  {
   "cell_type": "code",
   "execution_count": 234,
   "metadata": {},
   "outputs": [
    {
     "data": {
      "text/plain": [
       "22276"
      ]
     },
     "execution_count": 234,
     "metadata": {},
     "output_type": "execute_result"
    }
   ],
   "source": [
    "np.sum(y_pred_full == 1)"
   ]
  },
  {
   "cell_type": "markdown",
   "metadata": {},
   "source": [
    "I predict around 25,000 1s and 4,000 0s, which is around the same ratio that I labeled them at. "
   ]
  },
  {
   "cell_type": "markdown",
   "metadata": {},
   "source": [
    "### Now, I am going to add a Label column with my prediction and visually inspect how it did"
   ]
  },
  {
   "cell_type": "code",
   "execution_count": 235,
   "metadata": {},
   "outputs": [],
   "source": [
    "rev = reviews.copy()"
   ]
  },
  {
   "cell_type": "code",
   "execution_count": 236,
   "metadata": {},
   "outputs": [],
   "source": [
    "rev['Label'] = y_pred_full"
   ]
  },
  {
   "cell_type": "code",
   "execution_count": 237,
   "metadata": {},
   "outputs": [
    {
     "data": {
      "text/plain": [
       "3982"
      ]
     },
     "execution_count": 237,
     "metadata": {},
     "output_type": "execute_result"
    }
   ],
   "source": [
    "len(rev.loc[rev['Sentiment'] == 'Negative'].loc[rev['Label'] == 1])"
   ]
  },
  {
   "cell_type": "markdown",
   "metadata": {},
   "source": [
    "Around 3982 labels don't match up with the negative sentiments that they found. "
   ]
  },
  {
   "cell_type": "code",
   "execution_count": 238,
   "metadata": {},
   "outputs": [
    {
     "data": {
      "text/plain": [
       "2339"
      ]
     },
     "execution_count": 238,
     "metadata": {},
     "output_type": "execute_result"
    }
   ],
   "source": [
    "len(rev.loc[rev['Sentiment'] == 'Negative'].loc[rev['Label'] == 0])"
   ]
  },
  {
   "cell_type": "markdown",
   "metadata": {},
   "source": [
    "Only about 1/3 of my negative labels match up with the negative labels that they used"
   ]
  },
  {
   "cell_type": "code",
   "execution_count": 239,
   "metadata": {},
   "outputs": [
    {
     "data": {
      "text/plain": [
       "16708"
      ]
     },
     "execution_count": 239,
     "metadata": {},
     "output_type": "execute_result"
    }
   ],
   "source": [
    "len(rev.loc[rev['Sentiment'] == 'Positive'].loc[rev['Label'] == 1])"
   ]
  },
  {
   "cell_type": "markdown",
   "metadata": {},
   "source": [
    "17,000 of my guesses match with theirs. "
   ]
  },
  {
   "cell_type": "code",
   "execution_count": 240,
   "metadata": {},
   "outputs": [
    {
     "data": {
      "text/plain": [
       "2307"
      ]
     },
     "execution_count": 240,
     "metadata": {},
     "output_type": "execute_result"
    }
   ],
   "source": [
    "len(rev.loc[rev['Sentiment'] == 'Positive'].loc[rev['Label'] == 0])"
   ]
  },
  {
   "cell_type": "markdown",
   "metadata": {},
   "source": [
    "Almost 2300 are labeled as negative for me, but positive for them. "
   ]
  },
  {
   "cell_type": "markdown",
   "metadata": {},
   "source": [
    "Let's look at some of these differences and decide which one is better. "
   ]
  },
  {
   "cell_type": "code",
   "execution_count": 241,
   "metadata": {
    "scrolled": true
   },
   "outputs": [
    {
     "data": {
      "text/html": [
       "<div>\n",
       "<style scoped>\n",
       "    .dataframe tbody tr th:only-of-type {\n",
       "        vertical-align: middle;\n",
       "    }\n",
       "\n",
       "    .dataframe tbody tr th {\n",
       "        vertical-align: top;\n",
       "    }\n",
       "\n",
       "    .dataframe thead th {\n",
       "        text-align: right;\n",
       "    }\n",
       "</style>\n",
       "<table border=\"1\" class=\"dataframe\">\n",
       "  <thead>\n",
       "    <tr style=\"text-align: right;\">\n",
       "      <th></th>\n",
       "      <th>App</th>\n",
       "      <th>Translated_Review</th>\n",
       "      <th>Sentiment</th>\n",
       "      <th>Sentiment_Polarity</th>\n",
       "      <th>Sentiment_Subjectivity</th>\n",
       "      <th>Label</th>\n",
       "    </tr>\n",
       "  </thead>\n",
       "  <tbody>\n",
       "    <tr>\n",
       "      <th>16</th>\n",
       "      <td>10 Best Foods for You</td>\n",
       "      <td>one greatest apps.</td>\n",
       "      <td>Positive</td>\n",
       "      <td>1.000000</td>\n",
       "      <td>1.000000</td>\n",
       "      <td>0</td>\n",
       "    </tr>\n",
       "    <tr>\n",
       "      <th>23</th>\n",
       "      <td>10 Best Foods for You</td>\n",
       "      <td>because i found important.</td>\n",
       "      <td>Positive</td>\n",
       "      <td>0.400000</td>\n",
       "      <td>1.000000</td>\n",
       "      <td>0</td>\n",
       "    </tr>\n",
       "    <tr>\n",
       "      <th>30</th>\n",
       "      <td>10 Best Foods for You</td>\n",
       "      <td>absolutely fabulous phenomenal</td>\n",
       "      <td>Positive</td>\n",
       "      <td>0.450000</td>\n",
       "      <td>0.750000</td>\n",
       "      <td>0</td>\n",
       "    </tr>\n",
       "    <tr>\n",
       "      <th>57</th>\n",
       "      <td>10 Best Foods for You</td>\n",
       "      <td>very informative</td>\n",
       "      <td>Positive</td>\n",
       "      <td>0.200000</td>\n",
       "      <td>0.300000</td>\n",
       "      <td>0</td>\n",
       "    </tr>\n",
       "    <tr>\n",
       "      <th>60</th>\n",
       "      <td>10 Best Foods for You</td>\n",
       "      <td>wonderful</td>\n",
       "      <td>Positive</td>\n",
       "      <td>1.000000</td>\n",
       "      <td>1.000000</td>\n",
       "      <td>0</td>\n",
       "    </tr>\n",
       "    <tr>\n",
       "      <th>62</th>\n",
       "      <td>10 Best Foods for You</td>\n",
       "      <td>weight loss not bad</td>\n",
       "      <td>Positive</td>\n",
       "      <td>0.350000</td>\n",
       "      <td>0.666667</td>\n",
       "      <td>0</td>\n",
       "    </tr>\n",
       "    <tr>\n",
       "      <th>64</th>\n",
       "      <td>10 Best Foods for You</td>\n",
       "      <td>this needed most.</td>\n",
       "      <td>Positive</td>\n",
       "      <td>0.500000</td>\n",
       "      <td>0.500000</td>\n",
       "      <td>0</td>\n",
       "    </tr>\n",
       "    <tr>\n",
       "      <th>87</th>\n",
       "      <td>10 Best Foods for You</td>\n",
       "      <td>wow</td>\n",
       "      <td>Positive</td>\n",
       "      <td>0.100000</td>\n",
       "      <td>1.000000</td>\n",
       "      <td>0</td>\n",
       "    </tr>\n",
       "    <tr>\n",
       "      <th>219</th>\n",
       "      <td>104 找工作 - 找工作 找打工 找兼職 履歷健檢 履歷診療室</td>\n",
       "      <td>this better suited possibly somebody understan...</td>\n",
       "      <td>Positive</td>\n",
       "      <td>0.233333</td>\n",
       "      <td>0.600000</td>\n",
       "      <td>0</td>\n",
       "    </tr>\n",
       "    <tr>\n",
       "      <th>238</th>\n",
       "      <td>11st</td>\n",
       "      <td>top bar missing newest update. hard shop can't...</td>\n",
       "      <td>Positive</td>\n",
       "      <td>0.002778</td>\n",
       "      <td>0.363889</td>\n",
       "      <td>0</td>\n",
       "    </tr>\n",
       "    <tr>\n",
       "      <th>244</th>\n",
       "      <td>11st</td>\n",
       "      <td>forced full screen popups</td>\n",
       "      <td>Positive</td>\n",
       "      <td>0.025000</td>\n",
       "      <td>0.375000</td>\n",
       "      <td>0</td>\n",
       "    </tr>\n",
       "    <tr>\n",
       "      <th>245</th>\n",
       "      <td>11st</td>\n",
       "      <td>is it sound like you want to clear chrome and ...</td>\n",
       "      <td>Positive</td>\n",
       "      <td>0.283333</td>\n",
       "      <td>0.477778</td>\n",
       "      <td>0</td>\n",
       "    </tr>\n",
       "    <tr>\n",
       "      <th>263</th>\n",
       "      <td>11st</td>\n",
       "      <td>forced termination is too severe. if you try t...</td>\n",
       "      <td>Positive</td>\n",
       "      <td>0.200000</td>\n",
       "      <td>0.650000</td>\n",
       "      <td>0</td>\n",
       "    </tr>\n",
       "    <tr>\n",
       "      <th>285</th>\n",
       "      <td>1800 Contacts - Lens Store</td>\n",
       "      <td>very user friendly.</td>\n",
       "      <td>Positive</td>\n",
       "      <td>0.287500</td>\n",
       "      <td>0.400000</td>\n",
       "      <td>0</td>\n",
       "    </tr>\n",
       "    <tr>\n",
       "      <th>294</th>\n",
       "      <td>1800 Contacts - Lens Store</td>\n",
       "      <td>worked well glad i</td>\n",
       "      <td>Positive</td>\n",
       "      <td>0.500000</td>\n",
       "      <td>1.000000</td>\n",
       "      <td>0</td>\n",
       "    </tr>\n",
       "    <tr>\n",
       "      <th>298</th>\n",
       "      <td>1800 Contacts - Lens Store</td>\n",
       "      <td>hopefully work well. first time user.</td>\n",
       "      <td>Positive</td>\n",
       "      <td>0.250000</td>\n",
       "      <td>0.333333</td>\n",
       "      <td>0</td>\n",
       "    </tr>\n",
       "    <tr>\n",
       "      <th>303</th>\n",
       "      <td>1800 Contacts - Lens Store</td>\n",
       "      <td>months later, gs9+, still notify expired lense...</td>\n",
       "      <td>Positive</td>\n",
       "      <td>0.166667</td>\n",
       "      <td>0.412500</td>\n",
       "      <td>0</td>\n",
       "    </tr>\n",
       "    <tr>\n",
       "      <th>355</th>\n",
       "      <td>1LINE – One Line with One Touch</td>\n",
       "      <td>wow ,i play 15 puzzle 1st round i remember puz...</td>\n",
       "      <td>Positive</td>\n",
       "      <td>0.133333</td>\n",
       "      <td>0.716667</td>\n",
       "      <td>0</td>\n",
       "    </tr>\n",
       "    <tr>\n",
       "      <th>357</th>\n",
       "      <td>1LINE – One Line with One Touch</td>\n",
       "      <td>way many aggressive ads</td>\n",
       "      <td>Positive</td>\n",
       "      <td>0.500000</td>\n",
       "      <td>0.500000</td>\n",
       "      <td>0</td>\n",
       "    </tr>\n",
       "    <tr>\n",
       "      <th>364</th>\n",
       "      <td>1LINE – One Line with One Touch</td>\n",
       "      <td>too much ad</td>\n",
       "      <td>Positive</td>\n",
       "      <td>0.200000</td>\n",
       "      <td>0.200000</td>\n",
       "      <td>0</td>\n",
       "    </tr>\n",
       "    <tr>\n",
       "      <th>374</th>\n",
       "      <td>1LINE – One Line with One Touch</td>\n",
       "      <td>super</td>\n",
       "      <td>Positive</td>\n",
       "      <td>0.333333</td>\n",
       "      <td>0.666667</td>\n",
       "      <td>0</td>\n",
       "    </tr>\n",
       "    <tr>\n",
       "      <th>381</th>\n",
       "      <td>1LINE – One Line with One Touch</td>\n",
       "      <td>fantastic</td>\n",
       "      <td>Positive</td>\n",
       "      <td>0.400000</td>\n",
       "      <td>0.900000</td>\n",
       "      <td>0</td>\n",
       "    </tr>\n",
       "    <tr>\n",
       "      <th>382</th>\n",
       "      <td>1LINE – One Line with One Touch</td>\n",
       "      <td>superb</td>\n",
       "      <td>Positive</td>\n",
       "      <td>1.000000</td>\n",
       "      <td>1.000000</td>\n",
       "      <td>0</td>\n",
       "    </tr>\n",
       "    <tr>\n",
       "      <th>386</th>\n",
       "      <td>1LINE – One Line with One Touch</td>\n",
       "      <td>fun</td>\n",
       "      <td>Positive</td>\n",
       "      <td>0.300000</td>\n",
       "      <td>0.200000</td>\n",
       "      <td>0</td>\n",
       "    </tr>\n",
       "    <tr>\n",
       "      <th>387</th>\n",
       "      <td>1LINE – One Line with One Touch</td>\n",
       "      <td>enjoy</td>\n",
       "      <td>Positive</td>\n",
       "      <td>0.400000</td>\n",
       "      <td>0.500000</td>\n",
       "      <td>0</td>\n",
       "    </tr>\n",
       "    <tr>\n",
       "      <th>403</th>\n",
       "      <td>2018Emoji Keyboard 😂 Emoticons Lite -sticker&amp;gif</td>\n",
       "      <td>last update bug...i can't open keyboard settin...</td>\n",
       "      <td>Positive</td>\n",
       "      <td>0.025000</td>\n",
       "      <td>0.191667</td>\n",
       "      <td>0</td>\n",
       "    </tr>\n",
       "    <tr>\n",
       "      <th>404</th>\n",
       "      <td>2018Emoji Keyboard 😂 Emoticons Lite -sticker&amp;gif</td>\n",
       "      <td>works fine. no need update</td>\n",
       "      <td>Positive</td>\n",
       "      <td>0.416667</td>\n",
       "      <td>0.500000</td>\n",
       "      <td>0</td>\n",
       "    </tr>\n",
       "    <tr>\n",
       "      <th>415</th>\n",
       "      <td>2018Emoji Keyboard 😂 Emoticons Lite -sticker&amp;gif</td>\n",
       "      <td>loved</td>\n",
       "      <td>Positive</td>\n",
       "      <td>0.700000</td>\n",
       "      <td>0.800000</td>\n",
       "      <td>0</td>\n",
       "    </tr>\n",
       "    <tr>\n",
       "      <th>419</th>\n",
       "      <td>2018Emoji Keyboard 😂 Emoticons Lite -sticker&amp;gif</td>\n",
       "      <td>after update emoji can't used normally...</td>\n",
       "      <td>Positive</td>\n",
       "      <td>0.150000</td>\n",
       "      <td>0.650000</td>\n",
       "      <td>0</td>\n",
       "    </tr>\n",
       "    <tr>\n",
       "      <th>439</th>\n",
       "      <td>21-Day Meditation Experience</td>\n",
       "      <td>frozen day 3...things w we're moving along gre...</td>\n",
       "      <td>Positive</td>\n",
       "      <td>0.089394</td>\n",
       "      <td>0.321591</td>\n",
       "      <td>0</td>\n",
       "    </tr>\n",
       "    <tr>\n",
       "      <th>...</th>\n",
       "      <td>...</td>\n",
       "      <td>...</td>\n",
       "      <td>...</td>\n",
       "      <td>...</td>\n",
       "      <td>...</td>\n",
       "      <td>...</td>\n",
       "    </tr>\n",
       "    <tr>\n",
       "      <th>36989</th>\n",
       "      <td>Horses Live Wallpaper</td>\n",
       "      <td>running free most beautiful creature earth</td>\n",
       "      <td>Positive</td>\n",
       "      <td>0.583333</td>\n",
       "      <td>0.766667</td>\n",
       "      <td>0</td>\n",
       "    </tr>\n",
       "    <tr>\n",
       "      <th>36990</th>\n",
       "      <td>Horses Live Wallpaper</td>\n",
       "      <td>pictures beautiful bet no life</td>\n",
       "      <td>Positive</td>\n",
       "      <td>0.850000</td>\n",
       "      <td>1.000000</td>\n",
       "      <td>0</td>\n",
       "    </tr>\n",
       "    <tr>\n",
       "      <th>37016</th>\n",
       "      <td>Hostelworld: Hostels &amp; Cheap Hotels Travel App</td>\n",
       "      <td>fantastic traveling.</td>\n",
       "      <td>Positive</td>\n",
       "      <td>0.400000</td>\n",
       "      <td>0.900000</td>\n",
       "      <td>0</td>\n",
       "    </tr>\n",
       "    <tr>\n",
       "      <th>37024</th>\n",
       "      <td>Hostelworld: Hostels &amp; Cheap Hotels Travel App</td>\n",
       "      <td>fantastic life saver</td>\n",
       "      <td>Positive</td>\n",
       "      <td>0.400000</td>\n",
       "      <td>0.900000</td>\n",
       "      <td>0</td>\n",
       "    </tr>\n",
       "    <tr>\n",
       "      <th>37056</th>\n",
       "      <td>Hot Wheels: Race Off</td>\n",
       "      <td>the cars get top hill, flip backwards try. run...</td>\n",
       "      <td>Positive</td>\n",
       "      <td>0.085795</td>\n",
       "      <td>0.566193</td>\n",
       "      <td>0</td>\n",
       "    </tr>\n",
       "    <tr>\n",
       "      <th>37116</th>\n",
       "      <td>HotelTonight: Book amazing deals at great hotels</td>\n",
       "      <td>only downside i see save dates favorite searches.</td>\n",
       "      <td>Positive</td>\n",
       "      <td>0.250000</td>\n",
       "      <td>1.000000</td>\n",
       "      <td>0</td>\n",
       "    </tr>\n",
       "    <tr>\n",
       "      <th>37132</th>\n",
       "      <td>HotelTonight: Book amazing deals at great hotels</td>\n",
       "      <td>it cost us almost 25 dollars book walk front d...</td>\n",
       "      <td>Positive</td>\n",
       "      <td>0.500000</td>\n",
       "      <td>0.500000</td>\n",
       "      <td>0</td>\n",
       "    </tr>\n",
       "    <tr>\n",
       "      <th>37144</th>\n",
       "      <td>HotelTonight: Book amazing deals at great hotels</td>\n",
       "      <td>prices exact competitors dont offer cancellati...</td>\n",
       "      <td>Positive</td>\n",
       "      <td>0.250000</td>\n",
       "      <td>0.250000</td>\n",
       "      <td>0</td>\n",
       "    </tr>\n",
       "    <tr>\n",
       "      <th>37167</th>\n",
       "      <td>HotelTonight: Book amazing deals at great hotels</td>\n",
       "      <td>lovely jubbly</td>\n",
       "      <td>Positive</td>\n",
       "      <td>0.500000</td>\n",
       "      <td>0.750000</td>\n",
       "      <td>0</td>\n",
       "    </tr>\n",
       "    <tr>\n",
       "      <th>37181</th>\n",
       "      <td>HotelTonight: Book amazing deals at great hotels</td>\n",
       "      <td>if travel family, forget it. end paying $100 t...</td>\n",
       "      <td>Positive</td>\n",
       "      <td>0.500000</td>\n",
       "      <td>0.500000</td>\n",
       "      <td>0</td>\n",
       "    </tr>\n",
       "    <tr>\n",
       "      <th>37183</th>\n",
       "      <td>HotelTonight: Book amazing deals at great hotels</td>\n",
       "      <td>absolute trash. i've never seen counterintuiti...</td>\n",
       "      <td>Positive</td>\n",
       "      <td>0.133333</td>\n",
       "      <td>0.564583</td>\n",
       "      <td>0</td>\n",
       "    </tr>\n",
       "    <tr>\n",
       "      <th>37195</th>\n",
       "      <td>HotelTonight: Book amazing deals at great hotels</td>\n",
       "      <td>phenomenal service. i used twice now, i pleased.</td>\n",
       "      <td>Positive</td>\n",
       "      <td>0.500000</td>\n",
       "      <td>0.750000</td>\n",
       "      <td>0</td>\n",
       "    </tr>\n",
       "    <tr>\n",
       "      <th>37211</th>\n",
       "      <td>Hotels Combined - Cheap deals</td>\n",
       "      <td>ideal compare hotel rates within platform.</td>\n",
       "      <td>Positive</td>\n",
       "      <td>0.900000</td>\n",
       "      <td>1.000000</td>\n",
       "      <td>0</td>\n",
       "    </tr>\n",
       "    <tr>\n",
       "      <th>37230</th>\n",
       "      <td>Hotels Combined - Cheap deals</td>\n",
       "      <td>it'd nice could crash i try look hotels 3 show...</td>\n",
       "      <td>Positive</td>\n",
       "      <td>0.600000</td>\n",
       "      <td>1.000000</td>\n",
       "      <td>0</td>\n",
       "    </tr>\n",
       "    <tr>\n",
       "      <th>37252</th>\n",
       "      <td>Hotels.com: Book Hotel Rooms &amp; Find Vacation D...</td>\n",
       "      <td>very misleading prices, tell anywhere prices u...</td>\n",
       "      <td>Positive</td>\n",
       "      <td>0.200000</td>\n",
       "      <td>0.300000</td>\n",
       "      <td>0</td>\n",
       "    </tr>\n",
       "    <tr>\n",
       "      <th>37255</th>\n",
       "      <td>Hotels.com: Book Hotel Rooms &amp; Find Vacation D...</td>\n",
       "      <td>i travels... convenient detailed. prices norma...</td>\n",
       "      <td>Positive</td>\n",
       "      <td>0.443750</td>\n",
       "      <td>0.733333</td>\n",
       "      <td>0</td>\n",
       "    </tr>\n",
       "    <tr>\n",
       "      <th>37266</th>\n",
       "      <td>Hotels.com: Book Hotel Rooms &amp; Find Vacation D...</td>\n",
       "      <td>there communication between website. nights co...</td>\n",
       "      <td>Positive</td>\n",
       "      <td>0.433333</td>\n",
       "      <td>0.833333</td>\n",
       "      <td>0</td>\n",
       "    </tr>\n",
       "    <tr>\n",
       "      <th>37308</th>\n",
       "      <td>Hotspot Shield Free VPN Proxy &amp; Wi-Fi Security</td>\n",
       "      <td>startup full dark patterns trick inputting cre...</td>\n",
       "      <td>Positive</td>\n",
       "      <td>0.100000</td>\n",
       "      <td>0.475000</td>\n",
       "      <td>0</td>\n",
       "    </tr>\n",
       "    <tr>\n",
       "      <th>37314</th>\n",
       "      <td>Hotspot Shield Free VPN Proxy &amp; Wi-Fi Security</td>\n",
       "      <td>7 days free trial 8000 year charges</td>\n",
       "      <td>Positive</td>\n",
       "      <td>0.400000</td>\n",
       "      <td>0.800000</td>\n",
       "      <td>0</td>\n",
       "    </tr>\n",
       "    <tr>\n",
       "      <th>37344</th>\n",
       "      <td>Hotstar</td>\n",
       "      <td>doesn't open all.. crashes time. so much hype ...</td>\n",
       "      <td>Positive</td>\n",
       "      <td>0.237500</td>\n",
       "      <td>0.650000</td>\n",
       "      <td>0</td>\n",
       "    </tr>\n",
       "    <tr>\n",
       "      <th>37361</th>\n",
       "      <td>Hotstar</td>\n",
       "      <td>it optimised iball slide dazzle tablet can't s...</td>\n",
       "      <td>Positive</td>\n",
       "      <td>0.500000</td>\n",
       "      <td>1.000000</td>\n",
       "      <td>0</td>\n",
       "    </tr>\n",
       "    <tr>\n",
       "      <th>37363</th>\n",
       "      <td>Hotstar</td>\n",
       "      <td>kannadada kotyadipathi play along work properl...</td>\n",
       "      <td>Positive</td>\n",
       "      <td>0.142857</td>\n",
       "      <td>0.317857</td>\n",
       "      <td>0</td>\n",
       "    </tr>\n",
       "    <tr>\n",
       "      <th>37367</th>\n",
       "      <td>Hotstar</td>\n",
       "      <td>answers get lock \"kannadada kotyadipati\" . eve...</td>\n",
       "      <td>Positive</td>\n",
       "      <td>0.500000</td>\n",
       "      <td>0.500000</td>\n",
       "      <td>0</td>\n",
       "    </tr>\n",
       "    <tr>\n",
       "      <th>37371</th>\n",
       "      <td>Hotstar</td>\n",
       "      <td>the live shows even work..then hell r uh peopl...</td>\n",
       "      <td>Positive</td>\n",
       "      <td>0.136364</td>\n",
       "      <td>0.500000</td>\n",
       "      <td>0</td>\n",
       "    </tr>\n",
       "    <tr>\n",
       "      <th>37374</th>\n",
       "      <td>Hotwire Hotel &amp; Car Rental App</td>\n",
       "      <td>scam. hotel prices shown first much lower fina...</td>\n",
       "      <td>Positive</td>\n",
       "      <td>0.183929</td>\n",
       "      <td>0.517262</td>\n",
       "      <td>0</td>\n",
       "    </tr>\n",
       "    <tr>\n",
       "      <th>37378</th>\n",
       "      <td>Hotwire Hotel &amp; Car Rental App</td>\n",
       "      <td>watch out!! they won't refund you if you cance...</td>\n",
       "      <td>Positive</td>\n",
       "      <td>0.738281</td>\n",
       "      <td>0.500000</td>\n",
       "      <td>0</td>\n",
       "    </tr>\n",
       "    <tr>\n",
       "      <th>37394</th>\n",
       "      <td>Hotwire Hotel &amp; Car Rental App</td>\n",
       "      <td>works better</td>\n",
       "      <td>Positive</td>\n",
       "      <td>0.500000</td>\n",
       "      <td>0.500000</td>\n",
       "      <td>0</td>\n",
       "    </tr>\n",
       "    <tr>\n",
       "      <th>37399</th>\n",
       "      <td>Hotwire Hotel &amp; Car Rental App</td>\n",
       "      <td>always fair prices</td>\n",
       "      <td>Positive</td>\n",
       "      <td>0.700000</td>\n",
       "      <td>0.900000</td>\n",
       "      <td>0</td>\n",
       "    </tr>\n",
       "    <tr>\n",
       "      <th>37408</th>\n",
       "      <td>Housing-Real Estate &amp; Property</td>\n",
       "      <td>it's waste app... most properties 2017... and ...</td>\n",
       "      <td>Positive</td>\n",
       "      <td>0.266667</td>\n",
       "      <td>0.375000</td>\n",
       "      <td>0</td>\n",
       "    </tr>\n",
       "    <tr>\n",
       "      <th>37422</th>\n",
       "      <td>Housing-Real Estate &amp; Property</td>\n",
       "      <td>most ads older many agents ..not much owner po...</td>\n",
       "      <td>Positive</td>\n",
       "      <td>0.173333</td>\n",
       "      <td>0.486667</td>\n",
       "      <td>0</td>\n",
       "    </tr>\n",
       "  </tbody>\n",
       "</table>\n",
       "<p>2307 rows × 6 columns</p>\n",
       "</div>"
      ],
      "text/plain": [
       "                                                     App                                  Translated_Review Sentiment  Sentiment_Polarity  Sentiment_Subjectivity  Label\n",
       "16                                 10 Best Foods for You                                 one greatest apps.  Positive            1.000000                1.000000      0\n",
       "23                                 10 Best Foods for You                         because i found important.  Positive            0.400000                1.000000      0\n",
       "30                                 10 Best Foods for You                     absolutely fabulous phenomenal  Positive            0.450000                0.750000      0\n",
       "57                                 10 Best Foods for You                                   very informative  Positive            0.200000                0.300000      0\n",
       "60                                 10 Best Foods for You                                          wonderful  Positive            1.000000                1.000000      0\n",
       "62                                 10 Best Foods for You                                weight loss not bad  Positive            0.350000                0.666667      0\n",
       "64                                 10 Best Foods for You                                  this needed most.  Positive            0.500000                0.500000      0\n",
       "87                                 10 Best Foods for You                                                wow  Positive            0.100000                1.000000      0\n",
       "219                     104 找工作 - 找工作 找打工 找兼職 履歷健檢 履歷診療室  this better suited possibly somebody understan...  Positive            0.233333                0.600000      0\n",
       "238                                                 11st  top bar missing newest update. hard shop can't...  Positive            0.002778                0.363889      0\n",
       "244                                                 11st                          forced full screen popups  Positive            0.025000                0.375000      0\n",
       "245                                                 11st  is it sound like you want to clear chrome and ...  Positive            0.283333                0.477778      0\n",
       "263                                                 11st  forced termination is too severe. if you try t...  Positive            0.200000                0.650000      0\n",
       "285                           1800 Contacts - Lens Store                                very user friendly.  Positive            0.287500                0.400000      0\n",
       "294                           1800 Contacts - Lens Store                                 worked well glad i  Positive            0.500000                1.000000      0\n",
       "298                           1800 Contacts - Lens Store              hopefully work well. first time user.  Positive            0.250000                0.333333      0\n",
       "303                           1800 Contacts - Lens Store  months later, gs9+, still notify expired lense...  Positive            0.166667                0.412500      0\n",
       "355                      1LINE – One Line with One Touch  wow ,i play 15 puzzle 1st round i remember puz...  Positive            0.133333                0.716667      0\n",
       "357                      1LINE – One Line with One Touch                            way many aggressive ads  Positive            0.500000                0.500000      0\n",
       "364                      1LINE – One Line with One Touch                                        too much ad  Positive            0.200000                0.200000      0\n",
       "374                      1LINE – One Line with One Touch                                              super  Positive            0.333333                0.666667      0\n",
       "381                      1LINE – One Line with One Touch                                          fantastic  Positive            0.400000                0.900000      0\n",
       "382                      1LINE – One Line with One Touch                                             superb  Positive            1.000000                1.000000      0\n",
       "386                      1LINE – One Line with One Touch                                                fun  Positive            0.300000                0.200000      0\n",
       "387                      1LINE – One Line with One Touch                                              enjoy  Positive            0.400000                0.500000      0\n",
       "403     2018Emoji Keyboard 😂 Emoticons Lite -sticker&gif  last update bug...i can't open keyboard settin...  Positive            0.025000                0.191667      0\n",
       "404     2018Emoji Keyboard 😂 Emoticons Lite -sticker&gif                         works fine. no need update  Positive            0.416667                0.500000      0\n",
       "415     2018Emoji Keyboard 😂 Emoticons Lite -sticker&gif                                              loved  Positive            0.700000                0.800000      0\n",
       "419     2018Emoji Keyboard 😂 Emoticons Lite -sticker&gif          after update emoji can't used normally...  Positive            0.150000                0.650000      0\n",
       "439                         21-Day Meditation Experience  frozen day 3...things w we're moving along gre...  Positive            0.089394                0.321591      0\n",
       "...                                                  ...                                                ...       ...                 ...                     ...    ...\n",
       "36989                              Horses Live Wallpaper         running free most beautiful creature earth  Positive            0.583333                0.766667      0\n",
       "36990                              Horses Live Wallpaper                     pictures beautiful bet no life  Positive            0.850000                1.000000      0\n",
       "37016     Hostelworld: Hostels & Cheap Hotels Travel App                               fantastic traveling.  Positive            0.400000                0.900000      0\n",
       "37024     Hostelworld: Hostels & Cheap Hotels Travel App                               fantastic life saver  Positive            0.400000                0.900000      0\n",
       "37056                               Hot Wheels: Race Off  the cars get top hill, flip backwards try. run...  Positive            0.085795                0.566193      0\n",
       "37116   HotelTonight: Book amazing deals at great hotels  only downside i see save dates favorite searches.  Positive            0.250000                1.000000      0\n",
       "37132   HotelTonight: Book amazing deals at great hotels  it cost us almost 25 dollars book walk front d...  Positive            0.500000                0.500000      0\n",
       "37144   HotelTonight: Book amazing deals at great hotels  prices exact competitors dont offer cancellati...  Positive            0.250000                0.250000      0\n",
       "37167   HotelTonight: Book amazing deals at great hotels                                      lovely jubbly  Positive            0.500000                0.750000      0\n",
       "37181   HotelTonight: Book amazing deals at great hotels  if travel family, forget it. end paying $100 t...  Positive            0.500000                0.500000      0\n",
       "37183   HotelTonight: Book amazing deals at great hotels  absolute trash. i've never seen counterintuiti...  Positive            0.133333                0.564583      0\n",
       "37195   HotelTonight: Book amazing deals at great hotels   phenomenal service. i used twice now, i pleased.  Positive            0.500000                0.750000      0\n",
       "37211                      Hotels Combined - Cheap deals         ideal compare hotel rates within platform.  Positive            0.900000                1.000000      0\n",
       "37230                      Hotels Combined - Cheap deals  it'd nice could crash i try look hotels 3 show...  Positive            0.600000                1.000000      0\n",
       "37252  Hotels.com: Book Hotel Rooms & Find Vacation D...  very misleading prices, tell anywhere prices u...  Positive            0.200000                0.300000      0\n",
       "37255  Hotels.com: Book Hotel Rooms & Find Vacation D...  i travels... convenient detailed. prices norma...  Positive            0.443750                0.733333      0\n",
       "37266  Hotels.com: Book Hotel Rooms & Find Vacation D...  there communication between website. nights co...  Positive            0.433333                0.833333      0\n",
       "37308     Hotspot Shield Free VPN Proxy & Wi-Fi Security  startup full dark patterns trick inputting cre...  Positive            0.100000                0.475000      0\n",
       "37314     Hotspot Shield Free VPN Proxy & Wi-Fi Security                7 days free trial 8000 year charges  Positive            0.400000                0.800000      0\n",
       "37344                                            Hotstar  doesn't open all.. crashes time. so much hype ...  Positive            0.237500                0.650000      0\n",
       "37361                                            Hotstar  it optimised iball slide dazzle tablet can't s...  Positive            0.500000                1.000000      0\n",
       "37363                                            Hotstar  kannadada kotyadipathi play along work properl...  Positive            0.142857                0.317857      0\n",
       "37367                                            Hotstar  answers get lock \"kannadada kotyadipati\" . eve...  Positive            0.500000                0.500000      0\n",
       "37371                                            Hotstar  the live shows even work..then hell r uh peopl...  Positive            0.136364                0.500000      0\n",
       "37374                     Hotwire Hotel & Car Rental App  scam. hotel prices shown first much lower fina...  Positive            0.183929                0.517262      0\n",
       "37378                     Hotwire Hotel & Car Rental App  watch out!! they won't refund you if you cance...  Positive            0.738281                0.500000      0\n",
       "37394                     Hotwire Hotel & Car Rental App                                       works better  Positive            0.500000                0.500000      0\n",
       "37399                     Hotwire Hotel & Car Rental App                                 always fair prices  Positive            0.700000                0.900000      0\n",
       "37408                     Housing-Real Estate & Property  it's waste app... most properties 2017... and ...  Positive            0.266667                0.375000      0\n",
       "37422                     Housing-Real Estate & Property  most ads older many agents ..not much owner po...  Positive            0.173333                0.486667      0\n",
       "\n",
       "[2307 rows x 6 columns]"
      ]
     },
     "execution_count": 241,
     "metadata": {},
     "output_type": "execute_result"
    }
   ],
   "source": [
    "rev.loc[rev['Sentiment'] == 'Positive'].loc[rev['Label'] == 0]"
   ]
  },
  {
   "cell_type": "code",
   "execution_count": 218,
   "metadata": {},
   "outputs": [
    {
     "data": {
      "text/html": [
       "<div>\n",
       "<style scoped>\n",
       "    .dataframe tbody tr th:only-of-type {\n",
       "        vertical-align: middle;\n",
       "    }\n",
       "\n",
       "    .dataframe tbody tr th {\n",
       "        vertical-align: top;\n",
       "    }\n",
       "\n",
       "    .dataframe thead th {\n",
       "        text-align: right;\n",
       "    }\n",
       "</style>\n",
       "<table border=\"1\" class=\"dataframe\">\n",
       "  <thead>\n",
       "    <tr style=\"text-align: right;\">\n",
       "      <th></th>\n",
       "      <th>App</th>\n",
       "      <th>Translated_Review</th>\n",
       "      <th>Sentiment</th>\n",
       "      <th>Sentiment_Polarity</th>\n",
       "      <th>Sentiment_Subjectivity</th>\n",
       "      <th>Label</th>\n",
       "    </tr>\n",
       "  </thead>\n",
       "  <tbody>\n",
       "    <tr>\n",
       "      <th>29</th>\n",
       "      <td>10 Best Foods for You</td>\n",
       "      <td>no recipe book unable recipe book.</td>\n",
       "      <td>Negative</td>\n",
       "      <td>-5.000000e-01</td>\n",
       "      <td>0.500000</td>\n",
       "      <td>1</td>\n",
       "    </tr>\n",
       "    <tr>\n",
       "      <th>82</th>\n",
       "      <td>10 Best Foods for You</td>\n",
       "      <td>crap doesn't work</td>\n",
       "      <td>Negative</td>\n",
       "      <td>-8.000000e-01</td>\n",
       "      <td>0.800000</td>\n",
       "      <td>1</td>\n",
       "    </tr>\n",
       "    <tr>\n",
       "      <th>200</th>\n",
       "      <td>104 找工作 - 找工作 找打工 找兼職 履歷健檢 履歷診療室</td>\n",
       "      <td>not bad, price little bit expensive</td>\n",
       "      <td>Negative</td>\n",
       "      <td>-1.125000e-01</td>\n",
       "      <td>0.622222</td>\n",
       "      <td>1</td>\n",
       "    </tr>\n",
       "    <tr>\n",
       "      <th>234</th>\n",
       "      <td>11st</td>\n",
       "      <td>horrible id verification</td>\n",
       "      <td>Negative</td>\n",
       "      <td>-1.000000e+00</td>\n",
       "      <td>1.000000</td>\n",
       "      <td>1</td>\n",
       "    </tr>\n",
       "    <tr>\n",
       "      <th>239</th>\n",
       "      <td>11st</td>\n",
       "      <td>there is nothing missing ~ !!!</td>\n",
       "      <td>Negative</td>\n",
       "      <td>-3.906250e-01</td>\n",
       "      <td>0.050000</td>\n",
       "      <td>1</td>\n",
       "    </tr>\n",
       "    <tr>\n",
       "      <th>249</th>\n",
       "      <td>11st</td>\n",
       "      <td>icon name is strange after updating</td>\n",
       "      <td>Negative</td>\n",
       "      <td>-5.000000e-02</td>\n",
       "      <td>0.150000</td>\n",
       "      <td>1</td>\n",
       "    </tr>\n",
       "    <tr>\n",
       "      <th>302</th>\n",
       "      <td>1800 Contacts - Lens Store</td>\n",
       "      <td>first time app, always used doctors office sta...</td>\n",
       "      <td>Negative</td>\n",
       "      <td>-1.250000e-01</td>\n",
       "      <td>0.516667</td>\n",
       "      <td>1</td>\n",
       "    </tr>\n",
       "    <tr>\n",
       "      <th>358</th>\n",
       "      <td>1LINE – One Line with One Touch</td>\n",
       "      <td>amaze i'm addicted</td>\n",
       "      <td>Negative</td>\n",
       "      <td>-4.000000e-01</td>\n",
       "      <td>0.600000</td>\n",
       "      <td>1</td>\n",
       "    </tr>\n",
       "    <tr>\n",
       "      <th>359</th>\n",
       "      <td>1LINE – One Line with One Touch</td>\n",
       "      <td>i like game</td>\n",
       "      <td>Negative</td>\n",
       "      <td>-4.000000e-01</td>\n",
       "      <td>0.400000</td>\n",
       "      <td>1</td>\n",
       "    </tr>\n",
       "    <tr>\n",
       "      <th>360</th>\n",
       "      <td>1LINE – One Line with One Touch</td>\n",
       "      <td>i play game</td>\n",
       "      <td>Negative</td>\n",
       "      <td>-4.000000e-01</td>\n",
       "      <td>0.400000</td>\n",
       "      <td>1</td>\n",
       "    </tr>\n",
       "    <tr>\n",
       "      <th>361</th>\n",
       "      <td>1LINE – One Line with One Touch</td>\n",
       "      <td>it's toooo gud game</td>\n",
       "      <td>Negative</td>\n",
       "      <td>-4.000000e-01</td>\n",
       "      <td>0.400000</td>\n",
       "      <td>1</td>\n",
       "    </tr>\n",
       "    <tr>\n",
       "      <th>363</th>\n",
       "      <td>1LINE – One Line with One Touch</td>\n",
       "      <td>mind uses game</td>\n",
       "      <td>Negative</td>\n",
       "      <td>-4.000000e-01</td>\n",
       "      <td>0.400000</td>\n",
       "      <td>1</td>\n",
       "    </tr>\n",
       "    <tr>\n",
       "      <th>370</th>\n",
       "      <td>1LINE – One Line with One Touch</td>\n",
       "      <td>it confusing</td>\n",
       "      <td>Negative</td>\n",
       "      <td>-3.000000e-01</td>\n",
       "      <td>0.400000</td>\n",
       "      <td>1</td>\n",
       "    </tr>\n",
       "    <tr>\n",
       "      <th>390</th>\n",
       "      <td>1LINE – One Line with One Touch</td>\n",
       "      <td>terrible amount ads covering content making un...</td>\n",
       "      <td>Negative</td>\n",
       "      <td>-8.250000e-01</td>\n",
       "      <td>0.975000</td>\n",
       "      <td>1</td>\n",
       "    </tr>\n",
       "    <tr>\n",
       "      <th>423</th>\n",
       "      <td>21-Day Meditation Experience</td>\n",
       "      <td>terrible! not user-friendly like original app....</td>\n",
       "      <td>Negative</td>\n",
       "      <td>-2.656250e-01</td>\n",
       "      <td>0.875000</td>\n",
       "      <td>1</td>\n",
       "    </tr>\n",
       "    <tr>\n",
       "      <th>424</th>\n",
       "      <td>21-Day Meditation Experience</td>\n",
       "      <td>deeply disappointed. my free 21 days longer wo...</td>\n",
       "      <td>Negative</td>\n",
       "      <td>-6.333333e-02</td>\n",
       "      <td>0.696667</td>\n",
       "      <td>1</td>\n",
       "    </tr>\n",
       "    <tr>\n",
       "      <th>427</th>\n",
       "      <td>21-Day Meditation Experience</td>\n",
       "      <td>this good ever i get notification phone stops ...</td>\n",
       "      <td>Negative</td>\n",
       "      <td>-5.000000e-02</td>\n",
       "      <td>0.750000</td>\n",
       "      <td>1</td>\n",
       "    </tr>\n",
       "    <tr>\n",
       "      <th>441</th>\n",
       "      <td>21-Day Meditation Experience</td>\n",
       "      <td>update: apr 21, 2018 - i love itl. reliable co...</td>\n",
       "      <td>Negative</td>\n",
       "      <td>-1.083333e-01</td>\n",
       "      <td>0.469444</td>\n",
       "      <td>1</td>\n",
       "    </tr>\n",
       "    <tr>\n",
       "      <th>516</th>\n",
       "      <td>2Date Dating App, Love and matching</td>\n",
       "      <td>chatting behind paywall. you're unable initiat...</td>\n",
       "      <td>Negative</td>\n",
       "      <td>-4.500000e-01</td>\n",
       "      <td>0.600000</td>\n",
       "      <td>1</td>\n",
       "    </tr>\n",
       "    <tr>\n",
       "      <th>529</th>\n",
       "      <td>2Date Dating App, Love and matching</td>\n",
       "      <td>it’s so cool, it’s hard to use it, it’s hard f...</td>\n",
       "      <td>Negative</td>\n",
       "      <td>-7.777778e-02</td>\n",
       "      <td>0.577778</td>\n",
       "      <td>1</td>\n",
       "    </tr>\n",
       "    <tr>\n",
       "      <th>531</th>\n",
       "      <td>2Date Dating App, Love and matching</td>\n",
       "      <td>not good, even simplest messages function need...</td>\n",
       "      <td>Negative</td>\n",
       "      <td>-3.500000e-01</td>\n",
       "      <td>0.600000</td>\n",
       "      <td>1</td>\n",
       "    </tr>\n",
       "    <tr>\n",
       "      <th>549</th>\n",
       "      <td>2GIS: directory &amp; navigator</td>\n",
       "      <td>increase the launch speed on weak devices.</td>\n",
       "      <td>Negative</td>\n",
       "      <td>-3.750000e-01</td>\n",
       "      <td>0.625000</td>\n",
       "      <td>1</td>\n",
       "    </tr>\n",
       "    <tr>\n",
       "      <th>552</th>\n",
       "      <td>2GIS: directory &amp; navigator</td>\n",
       "      <td>previously, the application was eating less ba...</td>\n",
       "      <td>Negative</td>\n",
       "      <td>-5.777778e-02</td>\n",
       "      <td>0.257778</td>\n",
       "      <td>1</td>\n",
       "    </tr>\n",
       "    <tr>\n",
       "      <th>558</th>\n",
       "      <td>2GIS: directory &amp; navigator</td>\n",
       "      <td>already a couple of weeks is very buggy! what ...</td>\n",
       "      <td>Negative</td>\n",
       "      <td>-2.500000e-02</td>\n",
       "      <td>0.350000</td>\n",
       "      <td>1</td>\n",
       "    </tr>\n",
       "    <tr>\n",
       "      <th>567</th>\n",
       "      <td>2GIS: directory &amp; navigator</td>\n",
       "      <td>awesommmmmmmmmm app.. jst dwnld nd njy.. we nt...</td>\n",
       "      <td>Negative</td>\n",
       "      <td>-2.000000e-01</td>\n",
       "      <td>0.000000</td>\n",
       "      <td>1</td>\n",
       "    </tr>\n",
       "    <tr>\n",
       "      <th>610</th>\n",
       "      <td>2RedBeans</td>\n",
       "      <td>is hard</td>\n",
       "      <td>Negative</td>\n",
       "      <td>-2.916667e-01</td>\n",
       "      <td>0.541667</td>\n",
       "      <td>1</td>\n",
       "    </tr>\n",
       "    <tr>\n",
       "      <th>629</th>\n",
       "      <td>2ndLine - Second Phone Number</td>\n",
       "      <td>i loved ads starting popping using it. get rid...</td>\n",
       "      <td>Negative</td>\n",
       "      <td>-6.428571e-02</td>\n",
       "      <td>0.489286</td>\n",
       "      <td>1</td>\n",
       "    </tr>\n",
       "    <tr>\n",
       "      <th>674</th>\n",
       "      <td>30 Day Fitness Challenge - Workout at Home</td>\n",
       "      <td>can please tell me, i really confused ,how wei...</td>\n",
       "      <td>Negative</td>\n",
       "      <td>-3.166667e-02</td>\n",
       "      <td>0.495000</td>\n",
       "      <td>1</td>\n",
       "    </tr>\n",
       "    <tr>\n",
       "      <th>705</th>\n",
       "      <td>4 in a Row</td>\n",
       "      <td>simple game pass time away. my grandson like it.</td>\n",
       "      <td>Negative</td>\n",
       "      <td>-2.000000e-01</td>\n",
       "      <td>0.378571</td>\n",
       "      <td>1</td>\n",
       "    </tr>\n",
       "    <tr>\n",
       "      <th>728</th>\n",
       "      <td>4K Wallpapers and Ultra HD Backgrounds</td>\n",
       "      <td>gd bad.</td>\n",
       "      <td>Negative</td>\n",
       "      <td>-7.000000e-01</td>\n",
       "      <td>0.666667</td>\n",
       "      <td>1</td>\n",
       "    </tr>\n",
       "    <tr>\n",
       "      <th>...</th>\n",
       "      <td>...</td>\n",
       "      <td>...</td>\n",
       "      <td>...</td>\n",
       "      <td>...</td>\n",
       "      <td>...</td>\n",
       "      <td>...</td>\n",
       "    </tr>\n",
       "    <tr>\n",
       "      <th>37236</th>\n",
       "      <td>Hotels Combined - Cheap deals</td>\n",
       "      <td>very disappointed we went hotels combined book...</td>\n",
       "      <td>Negative</td>\n",
       "      <td>-1.154762e-01</td>\n",
       "      <td>0.415476</td>\n",
       "      <td>1</td>\n",
       "    </tr>\n",
       "    <tr>\n",
       "      <th>37241</th>\n",
       "      <td>Hotels.com: Book Hotel Rooms &amp; Find Vacation D...</td>\n",
       "      <td>i get daily emails deals. but i yet able find ...</td>\n",
       "      <td>Negative</td>\n",
       "      <td>-9.251859e-18</td>\n",
       "      <td>0.404167</td>\n",
       "      <td>1</td>\n",
       "    </tr>\n",
       "    <tr>\n",
       "      <th>37244</th>\n",
       "      <td>Hotels.com: Book Hotel Rooms &amp; Find Vacation D...</td>\n",
       "      <td>worst service! the bug would apply wrong date ...</td>\n",
       "      <td>Negative</td>\n",
       "      <td>-9.882812e-01</td>\n",
       "      <td>0.950000</td>\n",
       "      <td>1</td>\n",
       "    </tr>\n",
       "    <tr>\n",
       "      <th>37245</th>\n",
       "      <td>Hotels.com: Book Hotel Rooms &amp; Find Vacation D...</td>\n",
       "      <td>worst ever! i san diego california sunday nigh...</td>\n",
       "      <td>Negative</td>\n",
       "      <td>-4.375000e-02</td>\n",
       "      <td>0.806250</td>\n",
       "      <td>1</td>\n",
       "    </tr>\n",
       "    <tr>\n",
       "      <th>37247</th>\n",
       "      <td>Hotels.com: Book Hotel Rooms &amp; Find Vacation D...</td>\n",
       "      <td>it displays incorrect prices i uninstall it. i...</td>\n",
       "      <td>Negative</td>\n",
       "      <td>-5.000000e-02</td>\n",
       "      <td>0.383333</td>\n",
       "      <td>1</td>\n",
       "    </tr>\n",
       "    <tr>\n",
       "      <th>37248</th>\n",
       "      <td>Hotels.com: Book Hotel Rooms &amp; Find Vacation D...</td>\n",
       "      <td>reserved hotel i sent confirmation email sayin...</td>\n",
       "      <td>Negative</td>\n",
       "      <td>-7.000000e-01</td>\n",
       "      <td>0.800000</td>\n",
       "      <td>1</td>\n",
       "    </tr>\n",
       "    <tr>\n",
       "      <th>37249</th>\n",
       "      <td>Hotels.com: Book Hotel Rooms &amp; Find Vacation D...</td>\n",
       "      <td>do service! they charged hotel would charged i...</td>\n",
       "      <td>Negative</td>\n",
       "      <td>-1.190476e-02</td>\n",
       "      <td>0.578571</td>\n",
       "      <td>1</td>\n",
       "    </tr>\n",
       "    <tr>\n",
       "      <th>37250</th>\n",
       "      <td>Hotels.com: Book Hotel Rooms &amp; Find Vacation D...</td>\n",
       "      <td>my hotel bookings continue show making busines...</td>\n",
       "      <td>Negative</td>\n",
       "      <td>-8.333333e-02</td>\n",
       "      <td>0.916667</td>\n",
       "      <td>1</td>\n",
       "    </tr>\n",
       "    <tr>\n",
       "      <th>37260</th>\n",
       "      <td>Hotels.com: Book Hotel Rooms &amp; Find Vacation D...</td>\n",
       "      <td>used ok something went wrong, says \"xyz\" hotel...</td>\n",
       "      <td>Negative</td>\n",
       "      <td>-2.489796e-02</td>\n",
       "      <td>0.427959</td>\n",
       "      <td>1</td>\n",
       "    </tr>\n",
       "    <tr>\n",
       "      <th>37271</th>\n",
       "      <td>Hotels.com: Book Hotel Rooms &amp; Find Vacation D...</td>\n",
       "      <td>i like far booking i never able get coupon wor...</td>\n",
       "      <td>Negative</td>\n",
       "      <td>-3.750000e-02</td>\n",
       "      <td>0.675000</td>\n",
       "      <td>1</td>\n",
       "    </tr>\n",
       "    <tr>\n",
       "      <th>37274</th>\n",
       "      <td>Hotels.com: Book Hotel Rooms &amp; Find Vacation D...</td>\n",
       "      <td>the new system showing top 10 whole search res...</td>\n",
       "      <td>Negative</td>\n",
       "      <td>-3.272727e-02</td>\n",
       "      <td>0.670909</td>\n",
       "      <td>1</td>\n",
       "    </tr>\n",
       "    <tr>\n",
       "      <th>37307</th>\n",
       "      <td>Hotspot Shield Free VPN Proxy &amp; Wi-Fi Security</td>\n",
       "      <td>7 days free trial asking credit card. stupid!!!</td>\n",
       "      <td>Negative</td>\n",
       "      <td>-3.000000e-01</td>\n",
       "      <td>0.900000</td>\n",
       "      <td>1</td>\n",
       "    </tr>\n",
       "    <tr>\n",
       "      <th>37313</th>\n",
       "      <td>Hotspot Shield Free VPN Proxy &amp; Wi-Fi Security</td>\n",
       "      <td>unfortunately work iran</td>\n",
       "      <td>Negative</td>\n",
       "      <td>-5.000000e-01</td>\n",
       "      <td>1.000000</td>\n",
       "      <td>1</td>\n",
       "    </tr>\n",
       "    <tr>\n",
       "      <th>37327</th>\n",
       "      <td>Hotspot Shield Free VPN Proxy &amp; Wi-Fi Security</td>\n",
       "      <td>bad</td>\n",
       "      <td>Negative</td>\n",
       "      <td>-7.000000e-01</td>\n",
       "      <td>0.666667</td>\n",
       "      <td>1</td>\n",
       "    </tr>\n",
       "    <tr>\n",
       "      <th>37358</th>\n",
       "      <td>Hotstar</td>\n",
       "      <td>in new update play ಕನ್ನಡದ ಕೋಟ್ಯಧಿಪತಿ (kannadad...</td>\n",
       "      <td>Negative</td>\n",
       "      <td>-1.162338e-01</td>\n",
       "      <td>0.414935</td>\n",
       "      <td>1</td>\n",
       "    </tr>\n",
       "    <tr>\n",
       "      <th>37360</th>\n",
       "      <td>Hotstar</td>\n",
       "      <td>it's painful watch kannadada kotyadhipathi r p...</td>\n",
       "      <td>Negative</td>\n",
       "      <td>-3.500000e-01</td>\n",
       "      <td>0.950000</td>\n",
       "      <td>1</td>\n",
       "    </tr>\n",
       "    <tr>\n",
       "      <th>37365</th>\n",
       "      <td>Hotstar</td>\n",
       "      <td>many times disappointing playing sabse smart k...</td>\n",
       "      <td>Negative</td>\n",
       "      <td>-1.551020e-01</td>\n",
       "      <td>0.506122</td>\n",
       "      <td>1</td>\n",
       "    </tr>\n",
       "    <tr>\n",
       "      <th>37372</th>\n",
       "      <td>Hotstar</td>\n",
       "      <td>very bad i playing kannada dha kotyadhipathi i...</td>\n",
       "      <td>Negative</td>\n",
       "      <td>-4.550000e-01</td>\n",
       "      <td>0.483333</td>\n",
       "      <td>1</td>\n",
       "    </tr>\n",
       "    <tr>\n",
       "      <th>37373</th>\n",
       "      <td>Hotwire Hotel &amp; Car Rental App</td>\n",
       "      <td>the worthless. it allow see information would ...</td>\n",
       "      <td>Negative</td>\n",
       "      <td>-2.333333e-01</td>\n",
       "      <td>0.655556</td>\n",
       "      <td>1</td>\n",
       "    </tr>\n",
       "    <tr>\n",
       "      <th>37379</th>\n",
       "      <td>Hotwire Hotel &amp; Car Rental App</td>\n",
       "      <td>scammers!!! give refunds even made mistake. st...</td>\n",
       "      <td>Negative</td>\n",
       "      <td>-8.750000e-01</td>\n",
       "      <td>0.666667</td>\n",
       "      <td>1</td>\n",
       "    </tr>\n",
       "    <tr>\n",
       "      <th>37386</th>\n",
       "      <td>Hotwire Hotel &amp; Car Rental App</td>\n",
       "      <td>this company worst. i used years ok. now must ...</td>\n",
       "      <td>Negative</td>\n",
       "      <td>-4.166667e-02</td>\n",
       "      <td>0.662500</td>\n",
       "      <td>1</td>\n",
       "    </tr>\n",
       "    <tr>\n",
       "      <th>37389</th>\n",
       "      <td>Hotwire Hotel &amp; Car Rental App</td>\n",
       "      <td>total scam worst ever! thieves</td>\n",
       "      <td>Negative</td>\n",
       "      <td>-5.000000e-01</td>\n",
       "      <td>0.875000</td>\n",
       "      <td>1</td>\n",
       "    </tr>\n",
       "    <tr>\n",
       "      <th>37397</th>\n",
       "      <td>Hotwire Hotel &amp; Car Rental App</td>\n",
       "      <td>i hate gives notifications can't disabled. thi...</td>\n",
       "      <td>Negative</td>\n",
       "      <td>-1.666667e-01</td>\n",
       "      <td>0.600000</td>\n",
       "      <td>1</td>\n",
       "    </tr>\n",
       "    <tr>\n",
       "      <th>37406</th>\n",
       "      <td>Housing-Real Estate &amp; Property</td>\n",
       "      <td>incorrect listings. the agents show property d...</td>\n",
       "      <td>Negative</td>\n",
       "      <td>-2.500000e-02</td>\n",
       "      <td>0.125000</td>\n",
       "      <td>1</td>\n",
       "    </tr>\n",
       "    <tr>\n",
       "      <th>37407</th>\n",
       "      <td>Housing-Real Estate &amp; Property</td>\n",
       "      <td>pathetic app.all posted leads owner either old...</td>\n",
       "      <td>Negative</td>\n",
       "      <td>-3.625000e-01</td>\n",
       "      <td>0.625000</td>\n",
       "      <td>1</td>\n",
       "    </tr>\n",
       "    <tr>\n",
       "      <th>37409</th>\n",
       "      <td>Housing-Real Estate &amp; Property</td>\n",
       "      <td>filters useless i posted owners shows agents a...</td>\n",
       "      <td>Negative</td>\n",
       "      <td>-5.000000e-01</td>\n",
       "      <td>0.200000</td>\n",
       "      <td>1</td>\n",
       "    </tr>\n",
       "    <tr>\n",
       "      <th>37411</th>\n",
       "      <td>Housing-Real Estate &amp; Property</td>\n",
       "      <td>filters work... searching property useless</td>\n",
       "      <td>Negative</td>\n",
       "      <td>-5.000000e-01</td>\n",
       "      <td>0.200000</td>\n",
       "      <td>1</td>\n",
       "    </tr>\n",
       "    <tr>\n",
       "      <th>37415</th>\n",
       "      <td>Housing-Real Estate &amp; Property</td>\n",
       "      <td>this worse ever. they give graphic pictures pr...</td>\n",
       "      <td>Negative</td>\n",
       "      <td>-8.125000e-02</td>\n",
       "      <td>0.418750</td>\n",
       "      <td>1</td>\n",
       "    </tr>\n",
       "    <tr>\n",
       "      <th>37416</th>\n",
       "      <td>Housing-Real Estate &amp; Property</td>\n",
       "      <td>horrible app. i wanted list property get aroun...</td>\n",
       "      <td>Negative</td>\n",
       "      <td>-5.285714e-01</td>\n",
       "      <td>0.717262</td>\n",
       "      <td>1</td>\n",
       "    </tr>\n",
       "    <tr>\n",
       "      <th>37426</th>\n",
       "      <td>Housing-Real Estate &amp; Property</td>\n",
       "      <td>useless app, i searched flats kondapur, hydera...</td>\n",
       "      <td>Negative</td>\n",
       "      <td>-3.166667e-01</td>\n",
       "      <td>0.400000</td>\n",
       "      <td>1</td>\n",
       "    </tr>\n",
       "  </tbody>\n",
       "</table>\n",
       "<p>4472 rows × 6 columns</p>\n",
       "</div>"
      ],
      "text/plain": [
       "                                                     App                                  Translated_Review Sentiment  Sentiment_Polarity  Sentiment_Subjectivity  Label\n",
       "29                                 10 Best Foods for You                 no recipe book unable recipe book.  Negative       -5.000000e-01                0.500000      1\n",
       "82                                 10 Best Foods for You                                  crap doesn't work  Negative       -8.000000e-01                0.800000      1\n",
       "200                     104 找工作 - 找工作 找打工 找兼職 履歷健檢 履歷診療室                not bad, price little bit expensive  Negative       -1.125000e-01                0.622222      1\n",
       "234                                                 11st                           horrible id verification  Negative       -1.000000e+00                1.000000      1\n",
       "239                                                 11st                     there is nothing missing ~ !!!  Negative       -3.906250e-01                0.050000      1\n",
       "249                                                 11st                icon name is strange after updating  Negative       -5.000000e-02                0.150000      1\n",
       "302                           1800 Contacts - Lens Store  first time app, always used doctors office sta...  Negative       -1.250000e-01                0.516667      1\n",
       "358                      1LINE – One Line with One Touch                                 amaze i'm addicted  Negative       -4.000000e-01                0.600000      1\n",
       "359                      1LINE – One Line with One Touch                                        i like game  Negative       -4.000000e-01                0.400000      1\n",
       "360                      1LINE – One Line with One Touch                                        i play game  Negative       -4.000000e-01                0.400000      1\n",
       "361                      1LINE – One Line with One Touch                                it's toooo gud game  Negative       -4.000000e-01                0.400000      1\n",
       "363                      1LINE – One Line with One Touch                                     mind uses game  Negative       -4.000000e-01                0.400000      1\n",
       "370                      1LINE – One Line with One Touch                                       it confusing  Negative       -3.000000e-01                0.400000      1\n",
       "390                      1LINE – One Line with One Touch  terrible amount ads covering content making un...  Negative       -8.250000e-01                0.975000      1\n",
       "423                         21-Day Meditation Experience  terrible! not user-friendly like original app....  Negative       -2.656250e-01                0.875000      1\n",
       "424                         21-Day Meditation Experience  deeply disappointed. my free 21 days longer wo...  Negative       -6.333333e-02                0.696667      1\n",
       "427                         21-Day Meditation Experience  this good ever i get notification phone stops ...  Negative       -5.000000e-02                0.750000      1\n",
       "441                         21-Day Meditation Experience  update: apr 21, 2018 - i love itl. reliable co...  Negative       -1.083333e-01                0.469444      1\n",
       "516                  2Date Dating App, Love and matching  chatting behind paywall. you're unable initiat...  Negative       -4.500000e-01                0.600000      1\n",
       "529                  2Date Dating App, Love and matching  it’s so cool, it’s hard to use it, it’s hard f...  Negative       -7.777778e-02                0.577778      1\n",
       "531                  2Date Dating App, Love and matching  not good, even simplest messages function need...  Negative       -3.500000e-01                0.600000      1\n",
       "549                          2GIS: directory & navigator         increase the launch speed on weak devices.  Negative       -3.750000e-01                0.625000      1\n",
       "552                          2GIS: directory & navigator  previously, the application was eating less ba...  Negative       -5.777778e-02                0.257778      1\n",
       "558                          2GIS: directory & navigator  already a couple of weeks is very buggy! what ...  Negative       -2.500000e-02                0.350000      1\n",
       "567                          2GIS: directory & navigator  awesommmmmmmmmm app.. jst dwnld nd njy.. we nt...  Negative       -2.000000e-01                0.000000      1\n",
       "610                                            2RedBeans                                            is hard  Negative       -2.916667e-01                0.541667      1\n",
       "629                        2ndLine - Second Phone Number  i loved ads starting popping using it. get rid...  Negative       -6.428571e-02                0.489286      1\n",
       "674           30 Day Fitness Challenge - Workout at Home  can please tell me, i really confused ,how wei...  Negative       -3.166667e-02                0.495000      1\n",
       "705                                           4 in a Row   simple game pass time away. my grandson like it.  Negative       -2.000000e-01                0.378571      1\n",
       "728               4K Wallpapers and Ultra HD Backgrounds                                            gd bad.  Negative       -7.000000e-01                0.666667      1\n",
       "...                                                  ...                                                ...       ...                 ...                     ...    ...\n",
       "37236                      Hotels Combined - Cheap deals  very disappointed we went hotels combined book...  Negative       -1.154762e-01                0.415476      1\n",
       "37241  Hotels.com: Book Hotel Rooms & Find Vacation D...  i get daily emails deals. but i yet able find ...  Negative       -9.251859e-18                0.404167      1\n",
       "37244  Hotels.com: Book Hotel Rooms & Find Vacation D...  worst service! the bug would apply wrong date ...  Negative       -9.882812e-01                0.950000      1\n",
       "37245  Hotels.com: Book Hotel Rooms & Find Vacation D...  worst ever! i san diego california sunday nigh...  Negative       -4.375000e-02                0.806250      1\n",
       "37247  Hotels.com: Book Hotel Rooms & Find Vacation D...  it displays incorrect prices i uninstall it. i...  Negative       -5.000000e-02                0.383333      1\n",
       "37248  Hotels.com: Book Hotel Rooms & Find Vacation D...  reserved hotel i sent confirmation email sayin...  Negative       -7.000000e-01                0.800000      1\n",
       "37249  Hotels.com: Book Hotel Rooms & Find Vacation D...  do service! they charged hotel would charged i...  Negative       -1.190476e-02                0.578571      1\n",
       "37250  Hotels.com: Book Hotel Rooms & Find Vacation D...  my hotel bookings continue show making busines...  Negative       -8.333333e-02                0.916667      1\n",
       "37260  Hotels.com: Book Hotel Rooms & Find Vacation D...  used ok something went wrong, says \"xyz\" hotel...  Negative       -2.489796e-02                0.427959      1\n",
       "37271  Hotels.com: Book Hotel Rooms & Find Vacation D...  i like far booking i never able get coupon wor...  Negative       -3.750000e-02                0.675000      1\n",
       "37274  Hotels.com: Book Hotel Rooms & Find Vacation D...  the new system showing top 10 whole search res...  Negative       -3.272727e-02                0.670909      1\n",
       "37307     Hotspot Shield Free VPN Proxy & Wi-Fi Security    7 days free trial asking credit card. stupid!!!  Negative       -3.000000e-01                0.900000      1\n",
       "37313     Hotspot Shield Free VPN Proxy & Wi-Fi Security                            unfortunately work iran  Negative       -5.000000e-01                1.000000      1\n",
       "37327     Hotspot Shield Free VPN Proxy & Wi-Fi Security                                                bad  Negative       -7.000000e-01                0.666667      1\n",
       "37358                                            Hotstar  in new update play ಕನ್ನಡದ ಕೋಟ್ಯಧಿಪತಿ (kannadad...  Negative       -1.162338e-01                0.414935      1\n",
       "37360                                            Hotstar  it's painful watch kannadada kotyadhipathi r p...  Negative       -3.500000e-01                0.950000      1\n",
       "37365                                            Hotstar  many times disappointing playing sabse smart k...  Negative       -1.551020e-01                0.506122      1\n",
       "37372                                            Hotstar  very bad i playing kannada dha kotyadhipathi i...  Negative       -4.550000e-01                0.483333      1\n",
       "37373                     Hotwire Hotel & Car Rental App  the worthless. it allow see information would ...  Negative       -2.333333e-01                0.655556      1\n",
       "37379                     Hotwire Hotel & Car Rental App  scammers!!! give refunds even made mistake. st...  Negative       -8.750000e-01                0.666667      1\n",
       "37386                     Hotwire Hotel & Car Rental App  this company worst. i used years ok. now must ...  Negative       -4.166667e-02                0.662500      1\n",
       "37389                     Hotwire Hotel & Car Rental App                     total scam worst ever! thieves  Negative       -5.000000e-01                0.875000      1\n",
       "37397                     Hotwire Hotel & Car Rental App  i hate gives notifications can't disabled. thi...  Negative       -1.666667e-01                0.600000      1\n",
       "37406                     Housing-Real Estate & Property  incorrect listings. the agents show property d...  Negative       -2.500000e-02                0.125000      1\n",
       "37407                     Housing-Real Estate & Property  pathetic app.all posted leads owner either old...  Negative       -3.625000e-01                0.625000      1\n",
       "37409                     Housing-Real Estate & Property  filters useless i posted owners shows agents a...  Negative       -5.000000e-01                0.200000      1\n",
       "37411                     Housing-Real Estate & Property         filters work... searching property useless  Negative       -5.000000e-01                0.200000      1\n",
       "37415                     Housing-Real Estate & Property  this worse ever. they give graphic pictures pr...  Negative       -8.125000e-02                0.418750      1\n",
       "37416                     Housing-Real Estate & Property  horrible app. i wanted list property get aroun...  Negative       -5.285714e-01                0.717262      1\n",
       "37426                     Housing-Real Estate & Property  useless app, i searched flats kondapur, hydera...  Negative       -3.166667e-01                0.400000      1\n",
       "\n",
       "[4472 rows x 6 columns]"
      ]
     },
     "execution_count": 218,
     "metadata": {},
     "output_type": "execute_result"
    }
   ],
   "source": [
    "rev.loc[rev['Sentiment'] == 'Negative'].loc[rev['Label'] == 1]"
   ]
  },
  {
   "cell_type": "markdown",
   "metadata": {},
   "source": [
    "By looking at both of the dataframes where the negatives were not matching with the original, we can see that there is no definite answer for which nlp worked better. Sometimes I predicted the negative class correctly and they don't, and sometimes they predict the negative class correctly, while I don't.\n",
    "\n",
    "I think it may have been a bit difficult to predict these things because the reviews were translated from a different language. There are also many misspellings like \"gud\" or repeated letters to exageratted like \"Soooo gooood\" \n",
    "\n",
    "In order to make this project more \"my own\", I will use my predictions as I continue."
   ]
  },
  {
   "cell_type": "code",
   "execution_count": 242,
   "metadata": {},
   "outputs": [],
   "source": [
    "rev.to_csv('with_labels.csv')"
   ]
  },
  {
   "cell_type": "code",
   "execution_count": null,
   "metadata": {},
   "outputs": [],
   "source": []
  },
  {
   "cell_type": "code",
   "execution_count": null,
   "metadata": {},
   "outputs": [],
   "source": []
  },
  {
   "cell_type": "code",
   "execution_count": null,
   "metadata": {},
   "outputs": [],
   "source": []
  },
  {
   "cell_type": "code",
   "execution_count": null,
   "metadata": {},
   "outputs": [],
   "source": []
  },
  {
   "cell_type": "code",
   "execution_count": null,
   "metadata": {},
   "outputs": [],
   "source": []
  }
 ],
 "metadata": {
  "kernelspec": {
   "display_name": "Python 3",
   "language": "python",
   "name": "python3"
  },
  "language_info": {
   "codemirror_mode": {
    "name": "ipython",
    "version": 3
   },
   "file_extension": ".py",
   "mimetype": "text/x-python",
   "name": "python",
   "nbconvert_exporter": "python",
   "pygments_lexer": "ipython3",
   "version": "3.6.5"
  }
 },
 "nbformat": 4,
 "nbformat_minor": 2
}
