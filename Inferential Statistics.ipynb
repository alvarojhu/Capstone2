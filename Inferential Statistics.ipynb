{
 "cells": [
  {
   "cell_type": "code",
   "execution_count": 1,
   "metadata": {},
   "outputs": [],
   "source": [
    "%matplotlib inline\n",
    "\n",
    "import pandas as pd\n",
    "import numpy as np\n",
    "import datetime \n",
    "import seaborn as sns\n",
    "import matplotlib.pyplot as plt\n",
    "from statsmodels.stats.proportion import proportions_ztest\n",
    "import scipy.stats as stats"
   ]
  },
  {
   "cell_type": "code",
   "execution_count": 2,
   "metadata": {},
   "outputs": [],
   "source": [
    "apps = pd.read_csv('apps_rev.csv')\n",
    "apps.drop('Unnamed: 0', inplace = True, axis = 1)"
   ]
  },
  {
   "cell_type": "code",
   "execution_count": 3,
   "metadata": {},
   "outputs": [],
   "source": [
    "reviews = pd.read_csv('with_avg.csv')\n",
    "reviews.drop('Unnamed: 0', inplace = True, axis = 1)"
   ]
  },
  {
   "cell_type": "code",
   "execution_count": 4,
   "metadata": {},
   "outputs": [],
   "source": [
    "calced = pd.read_csv('calced.csv')\n",
    "calced.drop('Unnamed: 0', inplace = True, axis = 1)"
   ]
  },
  {
   "cell_type": "markdown",
   "metadata": {},
   "source": [
    "# Inferential Statistics\n",
    "\n",
    "My goal in this section is to discover whether or not some of the disparities in the data, such as the difference in means or medians in some of the categories is truly a statistically significant difference. \n",
    "\n",
    "I may try a few OLS regressions to see if there is any way to predict the number of installs or the revenue based on the category of the app. Because of the amount of apps in the data nad wide range of installs and revenue in each category, this may be impossible, but I would be able to use this to help my client decide which app to make. "
   ]
  },
  {
   "cell_type": "code",
   "execution_count": 5,
   "metadata": {},
   "outputs": [
    {
     "data": {
      "text/plain": [
       "7.16552734375"
      ]
     },
     "execution_count": 5,
     "metadata": {},
     "output_type": "execute_result"
    }
   ],
   "source": [
    "(len(apps.loc[apps['Type'] == 'Paid'])/len(apps))*100"
   ]
  },
  {
   "cell_type": "markdown",
   "metadata": {},
   "source": [
    "In my exploratory data analysis, I found that there was a disproportionate amount of free apps compared to paid apps. We found that only 7.33% of apps were paid. Just to make sure, I will run a hypothesis test to find out if that is true for the population, and not just this sample. My hypotheses will be as follows:\n",
    "\n",
    "$H_0$: $p_{paid} = 0.07$ \n",
    "\n",
    "$H_a$: $p_{paid} \\neq 0.07$, where p is the proportion of paid to free apps\n",
    "\n",
    "with a level of $\\alpha = 0.05$\n",
    "\n"
   ]
  },
  {
   "cell_type": "code",
   "execution_count": 6,
   "metadata": {},
   "outputs": [
    {
     "data": {
      "text/plain": [
       "(0.5808794352694884, 0.5613217132290409)"
      ]
     },
     "execution_count": 6,
     "metadata": {},
     "output_type": "execute_result"
    }
   ],
   "source": [
    "stat, pval = proportions_ztest(len(apps.loc[apps['Type'] == 'Paid']), len(apps), 0.07)\n",
    "stat, pval"
   ]
  },
  {
   "cell_type": "markdown",
   "metadata": {},
   "source": [
    "We got a z-stat of 1.164 and a p-value of 0.244. This means that we cannot statistically claim that the proportion of apps paid for is 7%. We can check if the proportion of free apps is greater than the paid apps though in another test. Since there are only 2 options, free or paid, we can run the same test but change the porportion to 50%. \n",
    "\n",
    "$H_0$: $p_{paid} = 0.5$ \n",
    "\n",
    "$H_a$: $p_{paid} < 0.5$, where p is the proportion of paid apps \n",
    "\n",
    "with a level of $\\alpha = 0.05$"
   ]
  },
  {
   "cell_type": "code",
   "execution_count": 7,
   "metadata": {},
   "outputs": [
    {
     "data": {
      "text/plain": [
       "(-150.31754707674358, 0.0)"
      ]
     },
     "execution_count": 7,
     "metadata": {},
     "output_type": "execute_result"
    }
   ],
   "source": [
    "stat, pval = proportions_ztest(len(apps.loc[apps['Type'] == 'Paid']), len(apps), 0.50)\n",
    "stat, pval*2"
   ]
  },
  {
   "cell_type": "markdown",
   "metadata": {},
   "source": [
    "The z-stat is very large, and the pvalue is pretty much zero, so we can state that the proportion of paid apps is less than 50%, and therefore there is a larger proportion of free apps than there are paid apps. "
   ]
  },
  {
   "cell_type": "markdown",
   "metadata": {},
   "source": [
    "### Are medical apps installed at a statistically higher rate than the rest of the apps?"
   ]
  },
  {
   "cell_type": "code",
   "execution_count": 8,
   "metadata": {},
   "outputs": [],
   "source": [
    "prop_medical = (np.sum(apps.loc[apps['Category'] == 'Medical'].loc[apps['Type'] == 'Paid']['Installs'])\\\n",
    "                /np.sum(apps.loc[apps['Category'] == 'Medical']['Installs']))*100\n",
    "prop_rest = (np.sum(apps.loc[apps['Category'] != 'Medical'].loc[apps['Type'] == 'Paid']['Installs'])\\\n",
    "                /np.sum(apps.loc[apps['Category'] != 'Medical']['Installs']))*100"
   ]
  },
  {
   "cell_type": "code",
   "execution_count": 9,
   "metadata": {},
   "outputs": [
    {
     "data": {
      "text/plain": [
       "(1.4199235935930603, 0.07503558214340568)"
      ]
     },
     "execution_count": 9,
     "metadata": {},
     "output_type": "execute_result"
    }
   ],
   "source": [
    "prop_medical, prop_rest"
   ]
  },
  {
   "cell_type": "markdown",
   "metadata": {},
   "source": [
    "Around 1.4% of all Medicall app installs are paid for, while only about 0.07% of all other apps are paid for. The hypotheses for this test are:\n",
    "\n",
    "$H_0: p_{medical} \\leq p_{non-medical}$\n",
    "\n",
    "$H_a: p_{medical} > p_{non-medical}$, where $p$ is the proportion of installs that are paid for\n",
    "\n",
    "at a level $\\alpha = 0.05$\n"
   ]
  },
  {
   "cell_type": "code",
   "execution_count": 10,
   "metadata": {},
   "outputs": [
    {
     "data": {
      "text/plain": [
       "0.12313765579510842"
      ]
     },
     "execution_count": 10,
     "metadata": {},
     "output_type": "execute_result"
    }
   ],
   "source": [
    "pooled = ((prop_medical * len(apps.loc[apps['Category'] == 'Medical']['Installs'])) + \\\n",
    "        (prop_rest * len(apps.loc[apps['Category'] != 'Medical']['Installs'])))/len(apps)\n",
    "pooled"
   ]
  },
  {
   "cell_type": "code",
   "execution_count": 11,
   "metadata": {},
   "outputs": [
    {
     "data": {
      "text/plain": [
       "0.019549527067201578"
      ]
     },
     "execution_count": 11,
     "metadata": {},
     "output_type": "execute_result"
    }
   ],
   "source": [
    "SE = np.sqrt(pooled*( 1 - pooled )*((1/len(apps.loc[apps['Category'] == 'Medical']['Installs']))\\\n",
    "                                    + (1/len(apps.loc[apps['Category'] != 'Medical']['Installs']))))\n",
    "SE"
   ]
  },
  {
   "cell_type": "code",
   "execution_count": 12,
   "metadata": {},
   "outputs": [
    {
     "data": {
      "text/plain": [
       "68.79388983818365"
      ]
     },
     "execution_count": 12,
     "metadata": {},
     "output_type": "execute_result"
    }
   ],
   "source": [
    "z = (prop_medical - prop_rest)/SE\n",
    "z"
   ]
  },
  {
   "cell_type": "code",
   "execution_count": 13,
   "metadata": {},
   "outputs": [
    {
     "data": {
      "text/plain": [
       "0.0"
      ]
     },
     "execution_count": 13,
     "metadata": {},
     "output_type": "execute_result"
    }
   ],
   "source": [
    "p_value = stats.norm.sf(abs(z))\n",
    "p_value"
   ]
  },
  {
   "cell_type": "markdown",
   "metadata": {},
   "source": [
    "The p-value is pretty much 0, so we can rule out the null hypothesis that paid apps for the medical category  and other categories are installed at the same rate, and that **medical paid apps are installed higher than the rest**. "
   ]
  },
  {
   "cell_type": "markdown",
   "metadata": {},
   "source": [
    "# Do Entertainment apps have a higher average revenue than other apps?\n",
    "\n",
    "In order to do test this one, I am going to use a one-tailed hypothesis test for a difference in means. First I am going to do a bootstrapping test, and then I am going to use the t test module in scipy.stats. My hypotheses are as follows:\n",
    "\n",
    "H_0: $\\mu_{Entertainment} \\leq \\mu_{not-Entertainment}$\n",
    "\n",
    "H_a: $\\mu_{Entertainment} > \\mu_{not-Entertainment}$ Where $\\mu$ is the mean revenue of all apps in that category or categories.\n",
    "\n",
    "At an $\\alpha = 0.05$ level. \n",
    "\n",
    "This is after removing the expensive apps in the lifestyle and business categories"
   ]
  },
  {
   "cell_type": "code",
   "execution_count": 14,
   "metadata": {},
   "outputs": [
    {
     "data": {
      "text/plain": [
       "41635.25846929798"
      ]
     },
     "execution_count": 14,
     "metadata": {},
     "output_type": "execute_result"
    }
   ],
   "source": [
    "emp_mean_diff = np.mean(apps.loc[apps['Category'] == 'Entertainment']['Revenue'])-\\\n",
    "                np.mean(apps.loc[apps['Category'] != 'Entertainment'].loc[apps['Price'] < 200]['Revenue'])\n",
    "emp_mean_diff"
   ]
  },
  {
   "cell_type": "markdown",
   "metadata": {},
   "source": [
    "The empirical difference between apps in the family category and apps not in that category is aroun $55,272. "
   ]
  },
  {
   "cell_type": "code",
   "execution_count": 15,
   "metadata": {},
   "outputs": [],
   "source": [
    "def permutations(data_1, data_2):\n",
    "    \"\"\"This is a function for drawing random drawing without replacement from 2 distributions as if they were 1\"\"\"\n",
    "    data = np.concatenate((data_1, data_2))\n",
    "    perms = np.random.choice(data, len(data))\n",
    "    perm_cat1 = perms[:len(data_1)]\n",
    "    perm_cat2 = perms[len(data_1):]\n",
    "    return perm_cat1, perm_cat2"
   ]
  },
  {
   "cell_type": "code",
   "execution_count": 16,
   "metadata": {},
   "outputs": [],
   "source": [
    "def bootstrap(data_1, data_2, size):\n",
    "    \"\"\"This is a function written to take the mean of the permutations drawn in the above function\"\"\"\n",
    "    boots = np.empty(size)\n",
    "    for i in range(size):\n",
    "        perm_cat1, perm_cat2 = permutations(data_1, data_2)\n",
    "        boots[i] = np.mean(perm_cat1) - np.mean(perm_cat2)\n",
    "    return boots"
   ]
  },
  {
   "cell_type": "code",
   "execution_count": 17,
   "metadata": {},
   "outputs": [],
   "source": [
    "theo_mean_diffs = bootstrap(apps.loc[apps['Category'] == 'Entertainment']['Revenue'],\\\n",
    "                            apps.loc[apps['Category'] != 'Entertainment'].loc[apps['Price']<200]['Revenue'],10000)"
   ]
  },
  {
   "cell_type": "code",
   "execution_count": 18,
   "metadata": {},
   "outputs": [
    {
     "data": {
      "text/plain": [
       "0.0572"
      ]
     },
     "execution_count": 18,
     "metadata": {},
     "output_type": "execute_result"
    }
   ],
   "source": [
    "p = np.sum(theo_mean_diffs >= emp_mean_diff)/ float((len(theo_mean_diffs)))\n",
    "p*2"
   ]
  },
  {
   "cell_type": "code",
   "execution_count": 19,
   "metadata": {},
   "outputs": [
    {
     "data": {
      "image/png": "[encoded data removed]",
      "text/plain": [
       "<Figure size 432x288 with 1 Axes>"
      ]
     },
     "metadata": {},
     "output_type": "display_data"
    }
   ],
   "source": [
    "#Interesting. There seems to be multiple peaks in the distribution\n",
    "_ = plt.hist(theo_mean_diffs,bins = 50)\n",
    "_ = plt.axvline(emp_mean_diff, color='r', linestyle='dashed', linewidth=1)\n",
    "_ = plt.title('Theoretical Mean from Bootstrapping')\n",
    "_ = plt.ylabel('Count')\n",
    "_ = plt.xlabel('Theoretical Mean')"
   ]
  },
  {
   "cell_type": "code",
   "execution_count": 20,
   "metadata": {},
   "outputs": [
    {
     "data": {
      "text/plain": [
       "0.052078764890917464"
      ]
     },
     "execution_count": 20,
     "metadata": {},
     "output_type": "execute_result"
    }
   ],
   "source": [
    "t_fam_rest = stats.ttest_ind(apps.loc[apps['Category']=='Entertainment']['Revenue']\\\n",
    "                                   , apps.loc[apps['Category'] != 'Entertainment'].loc[apps['Price'] < 200]['Revenue'])\n",
    "t_fam_rest.pvalue *2 "
   ]
  },
  {
   "cell_type": "markdown",
   "metadata": {},
   "source": [
    "I get slightly different answers from both tests, but both are slightly above the alpha level of 0.05. But since they are very close, I will label them as \"likely significant\"."
   ]
  },
  {
   "cell_type": "markdown",
   "metadata": {},
   "source": [
    "# Do Social Apps have the highest install rate?\n",
    "\n",
    "In order to do test this one, I am going to use a one-tailed hypothesis test for a difference in means. First I am going to do a bootstrapping test, and then I am going to use the t test module in scipy.stats. My hypotheses are as follows:\n",
    "\n",
    "H_0: $\\mu_{Social} \\leq \\mu_{not-Social}$\n",
    "\n",
    "H_a: $\\mu_{Social} > \\mu_{not-Social}$ Where $\\mu$ is the mean number of installs of all apps in that category or categories.\n",
    "\n",
    "At an $\\alpha = 0.05$ level. \n",
    "\n"
   ]
  },
  {
   "cell_type": "code",
   "execution_count": 21,
   "metadata": {},
   "outputs": [
    {
     "data": {
      "text/plain": [
       "20334788.283446025"
      ]
     },
     "execution_count": 21,
     "metadata": {},
     "output_type": "execute_result"
    }
   ],
   "source": [
    "emp_mean_diff2 = np.mean(apps.loc[apps['Category'] == 'Social']['Installs'])-\\\n",
    "                np.mean(apps.loc[apps['Category'] != 'Social']['Installs'])\n",
    "emp_mean_diff2"
   ]
  },
  {
   "cell_type": "code",
   "execution_count": 22,
   "metadata": {},
   "outputs": [],
   "source": [
    "theo_mean_diffs2 = bootstrap(apps.loc[apps['Category'] == 'Social']['Installs'],\\\n",
    "                            apps.loc[apps['Category'] != 'Social']['Installs'],10000)"
   ]
  },
  {
   "cell_type": "code",
   "execution_count": 23,
   "metadata": {},
   "outputs": [
    {
     "data": {
      "text/plain": [
       "0.0"
      ]
     },
     "execution_count": 23,
     "metadata": {},
     "output_type": "execute_result"
    }
   ],
   "source": [
    "p2 = np.sum(theo_mean_diffs2 >= emp_mean_diff2)/ float((len(theo_mean_diffs2)))\n",
    "p2*2"
   ]
  },
  {
   "cell_type": "code",
   "execution_count": 24,
   "metadata": {},
   "outputs": [
    {
     "data": {
      "image/png": "[encoded data removed]",
      "text/plain": [
       "<Figure size 432x288 with 1 Axes>"
      ]
     },
     "metadata": {},
     "output_type": "display_data"
    }
   ],
   "source": [
    "#Interesting. There seems to be multiple peaks in the distribution\n",
    "_ = plt.hist(theo_mean_diffs2,bins = 50)\n",
    "_ = plt.axvline(emp_mean_diff2, color='r', linestyle='dashed', linewidth=1)\n",
    "_ = plt.title('Theoretical Mean from Bootstrapping')\n",
    "_ = plt.ylabel('Count')\n",
    "_ = plt.xlabel('Theoretical Mean')"
   ]
  },
  {
   "cell_type": "code",
   "execution_count": 25,
   "metadata": {},
   "outputs": [
    {
     "data": {
      "text/plain": [
       "4.56053881741428e-16"
      ]
     },
     "execution_count": 25,
     "metadata": {},
     "output_type": "execute_result"
    }
   ],
   "source": [
    "t_com_rest = stats.ttest_ind(apps.loc[apps['Category']=='Social']['Installs']\\\n",
    "                                   , apps.loc[apps['Category'] != 'Social']['Installs'])\n",
    "t_com_rest.pvalue *2 "
   ]
  },
  {
   "cell_type": "markdown",
   "metadata": {},
   "source": [
    "Pretty much none of the boostrapped mean differences are as extreme as the difference in the data. I also got a very small number from the t-test at the order of $10^{-21}$. This means that I can reject the null-hypothesis that Social apps are have a smaller or equal install rate than the rest of the categories."
   ]
  },
  {
   "cell_type": "markdown",
   "metadata": {},
   "source": [
    "## Checking to see if the correlation between avg_rating and number of installs is actually present. \n",
    "\n",
    "$H_0: R^2 \\leq 0$\n",
    "\n",
    "$H_a R^2 > 0$ where $R^2$ is the squared pearson correlation coefficient between number of installs and the average rating of an app.\n",
    "\n",
    "At an $\\alpha = 0.05$ "
   ]
  },
  {
   "cell_type": "code",
   "execution_count": 26,
   "metadata": {},
   "outputs": [
    {
     "data": {
      "text/plain": [
       "0.0030384559455486275"
      ]
     },
     "execution_count": 26,
     "metadata": {},
     "output_type": "execute_result"
    }
   ],
   "source": [
    "corr = np.corrcoef(reviews['Installs'], reviews['avg_rating'])[0,1]**2\n",
    "corr"
   ]
  },
  {
   "cell_type": "code",
   "execution_count": 27,
   "metadata": {},
   "outputs": [],
   "source": [
    "def check_corr(df, col1, col2, corr):\n",
    "    perm_data = np.empty(10000)\n",
    "\n",
    "    \"\"\"The purpose of this function is to shuffle the pairs without replacement and see how if the correlation between Installs and \n",
    "    average rating of the apps is statistically significant. Returns array of correlations and p-value\"\"\"\n",
    "    for i in range(10000):\n",
    "    \n",
    "        shuffled = df[[col1,col2]].sample(frac = 1)\n",
    "    \n",
    "        permuted = np.random.choice(list(shuffled[col1]), len(shuffled[col1]), replace = False)\n",
    "        shuffled_frame = pd.DataFrame({col1:permuted, col2: list(shuffled[col2].values)})\n",
    "    \n",
    "        perm_data[i] = (np.corrcoef(shuffled_frame[col1], shuffled_frame[col2])[0,1]**2)\n",
    "        \n",
    "        p = np.sum(perm_data >= corr)/ float(len(perm_data))\n",
    "\n",
    "    return perm_data, p"
   ]
  },
  {
   "cell_type": "code",
   "execution_count": 28,
   "metadata": {},
   "outputs": [],
   "source": [
    "perm_corr, p = check_corr(reviews, 'Installs','avg_rating', corr)"
   ]
  },
  {
   "cell_type": "code",
   "execution_count": 29,
   "metadata": {},
   "outputs": [
    {
     "data": {
      "text/plain": [
       "0.2322"
      ]
     },
     "execution_count": 29,
     "metadata": {},
     "output_type": "execute_result"
    }
   ],
   "source": [
    "p*2"
   ]
  },
  {
   "cell_type": "code",
   "execution_count": 30,
   "metadata": {},
   "outputs": [
    {
     "data": {
      "image/png": "[encoded data removed]",
      "text/plain": [
       "<Figure size 432x288 with 1 Axes>"
      ]
     },
     "metadata": {},
     "output_type": "display_data"
    }
   ],
   "source": [
    "_ = plt.hist(perm_corr,bins = 50)\n",
    "_ = plt.axvline(corr, color='r', linestyle='dashed', linewidth=1)\n",
    "_ = plt.title('Correlation from Permuted Data')\n",
    "_ = plt.ylabel('Count')\n",
    "_ = plt.xlabel('Correlation')"
   ]
  },
  {
   "cell_type": "markdown",
   "metadata": {},
   "source": [
    "As you can see, the correlation of 0.003 is well within the boundary of what can happen from a completely random distribution. The p-value is also $>>$ than the $\\alpha$ confidence level of 0.05. We cannot dismiss the null hypothesis that the correlation between the average rating and number of installs is 0. "
   ]
  },
  {
   "cell_type": "code",
   "execution_count": 31,
   "metadata": {},
   "outputs": [
    {
     "name": "stdout",
     "output_type": "stream",
     "text": [
      "<class 'pandas.core.frame.DataFrame'>\n",
      "RangeIndex: 8192 entries, 0 to 8191\n",
      "Data columns (total 14 columns):\n",
      "App               8192 non-null object\n",
      "Rating            8192 non-null float64\n",
      "Reviews           8192 non-null int64\n",
      "Size              8192 non-null float64\n",
      "Installs          8192 non-null int64\n",
      "Type              8192 non-null object\n",
      "Price             8192 non-null float64\n",
      "Content Rating    8192 non-null object\n",
      "Genres            8192 non-null object\n",
      "Last Updated      8192 non-null object\n",
      "Current Ver       8192 non-null object\n",
      "Android Ver       8192 non-null object\n",
      "Category          8192 non-null object\n",
      "Revenue           8192 non-null float64\n",
      "dtypes: float64(4), int64(2), object(8)\n",
      "memory usage: 896.1+ KB\n"
     ]
    }
   ],
   "source": [
    "apps.info()"
   ]
  },
  {
   "cell_type": "code",
   "execution_count": 32,
   "metadata": {},
   "outputs": [],
   "source": [
    "dummies = pd.get_dummies(apps, columns = ['Category','Content Rating','Type'])"
   ]
  },
  {
   "cell_type": "code",
   "execution_count": 33,
   "metadata": {},
   "outputs": [
    {
     "data": {
      "text/plain": [
       "(8192, 30)"
      ]
     },
     "execution_count": 33,
     "metadata": {},
     "output_type": "execute_result"
    }
   ],
   "source": [
    "dummies.shape"
   ]
  },
  {
   "cell_type": "code",
   "execution_count": 34,
   "metadata": {},
   "outputs": [
    {
     "data": {
      "image/png": "[encoded data removed]",
      "text/plain": [
       "<Figure size 432x288 with 1 Axes>"
      ]
     },
     "metadata": {},
     "output_type": "display_data"
    }
   ],
   "source": [
    "#Checking principal Component analysis\n",
    "from sklearn.decomposition import PCA\n",
    "pca = PCA()\n",
    "model = pca.fit(apps.drop(['App','Content Rating','Type','Category','Genres','Last Updated','Current Ver','Android Ver'],axis = 1))\n",
    "_ = plt.plot(range(len(model.explained_variance_)), model.explained_variance_ratio_)\n"
   ]
  },
  {
   "cell_type": "code",
   "execution_count": 35,
   "metadata": {},
   "outputs": [
    {
     "data": {
      "text/plain": [
       "array([9.99103213e-01, 7.08116531e-04, 1.88670273e-04, 1.15031058e-13,\n",
       "       1.08541151e-15, 8.42519841e-17])"
      ]
     },
     "execution_count": 35,
     "metadata": {},
     "output_type": "execute_result"
    }
   ],
   "source": [
    "model.explained_variance_ratio_"
   ]
  },
  {
   "cell_type": "code",
   "execution_count": null,
   "metadata": {},
   "outputs": [],
   "source": []
  },
  {
   "cell_type": "code",
   "execution_count": null,
   "metadata": {},
   "outputs": [],
   "source": []
  },
  {
   "cell_type": "code",
   "execution_count": null,
   "metadata": {},
   "outputs": [],
   "source": []
  },
  {
   "cell_type": "code",
   "execution_count": null,
   "metadata": {},
   "outputs": [],
   "source": []
  },
  {
   "cell_type": "code",
   "execution_count": null,
   "metadata": {},
   "outputs": [],
   "source": []
  }
 ],
 "metadata": {
  "kernelspec": {
   "display_name": "Python 3",
   "language": "python",
   "name": "python3"
  },
  "language_info": {
   "codemirror_mode": {
    "name": "ipython",
    "version": 3
   },
   "file_extension": ".py",
   "mimetype": "text/x-python",
   "name": "python",
   "nbconvert_exporter": "python",
   "pygments_lexer": "ipython3",
   "version": "3.6.5"
  }
 },
 "nbformat": 4,
 "nbformat_minor": 2
}
