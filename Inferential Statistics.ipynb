{
 "cells": [
  {
   "cell_type": "code",
   "execution_count": 1,
   "metadata": {},
   "outputs": [],
   "source": [
    "%matplotlib inline\n",
    "\n",
    "import pandas as pd\n",
    "import numpy as np\n",
    "import datetime \n",
    "import seaborn as sns\n",
    "import matplotlib.pyplot as plt\n",
    "from statsmodels.stats.proportion import proportions_ztest\n",
    "import scipy.stats as stats"
   ]
  },
  {
   "cell_type": "code",
   "execution_count": 2,
   "metadata": {},
   "outputs": [],
   "source": [
    "apps = pd.read_csv('apps_rev.csv')\n",
    "apps.drop('Unnamed: 0', inplace = True, axis = 1)"
   ]
  },
  {
   "cell_type": "code",
   "execution_count": 40,
   "metadata": {},
   "outputs": [],
   "source": [
    "reviews = pd.read_csv('with_avg.csv')\n",
    "reviews.drop('Unnamed: 0', inplace = True, axis = 1)"
   ]
  },
  {
   "cell_type": "code",
   "execution_count": 41,
   "metadata": {},
   "outputs": [],
   "source": [
    "calced = pd.read_csv('calced.csv')\n",
    "calced.drop('Unnamed: 0', inplace = True, axis = 1)"
   ]
  },
  {
   "cell_type": "markdown",
   "metadata": {},
   "source": [
    "# Inferential Statistics\n",
    "\n",
    "My goal in this section is to discover whether or not some of the disparities in the data, such as the difference in means or medians in some of the categories is truly a statistically significant difference. \n",
    "\n",
    "I may try a few OLS regressions to see if there is any way to predict the number of installs or the revenue based on the category of the app. Because of the amount of apps in the data nad wide range of installs and revenue in each category, this may be impossible, but I would be able to use this to help my client decide which app to make. "
   ]
  },
  {
   "cell_type": "code",
   "execution_count": 42,
   "metadata": {},
   "outputs": [
    {
     "data": {
      "text/plain": [
       "7.335201657121969"
      ]
     },
     "execution_count": 42,
     "metadata": {},
     "output_type": "execute_result"
    }
   ],
   "source": [
    "(len(apps.loc[apps['Type'] == 'Paid'])/len(apps))*100"
   ]
  },
  {
   "cell_type": "markdown",
   "metadata": {},
   "source": [
    "In my exploratory data analysis, I found that there was a disproportionate amount of free apps compared to paid apps. We found that only 7.33% of apps were paid. Just to make sure, I will run a hypothesis test to find out if that is true for the population, and not just this sample. My hypotheses will be as follows:\n",
    "\n",
    "$H_0$: $p_{paid} = 0.07$ \n",
    "\n",
    "$H_a$: $p_{paid} \\neq 0.07$, where p is the proportion of paid to free apps\n",
    "\n",
    "with a level of $\\alpha = 0.05$\n",
    "\n"
   ]
  },
  {
   "cell_type": "code",
   "execution_count": 43,
   "metadata": {},
   "outputs": [
    {
     "data": {
      "text/plain": [
       "(1.1647559892012007, 0.24411777833098114)"
      ]
     },
     "execution_count": 43,
     "metadata": {},
     "output_type": "execute_result"
    }
   ],
   "source": [
    "stat, pval = proportions_ztest(len(apps.loc[apps['Type'] == 'Paid']), len(apps), 0.07)\n",
    "stat, pval"
   ]
  },
  {
   "cell_type": "markdown",
   "metadata": {},
   "source": [
    "We got a z-stat of 1.164 and a p-value of 0.244. This means that we cannot statistically claim that the proportion of apps paid for is 7%. We can check if the proportion of free apps is greater than the paid apps though in another test. Since there are only 2 options, free or paid, we can run the same test but change the porportion to 50%. \n",
    "\n",
    "$H_0$: $p_{paid} = 0.5$ \n",
    "\n",
    "$H_a$: $p_{paid} < 0.5$, where p is the proportion of paid apps \n",
    "\n",
    "with a level of $\\alpha = 0.05$"
   ]
  },
  {
   "cell_type": "code",
   "execution_count": 44,
   "metadata": {},
   "outputs": [
    {
     "data": {
      "text/plain": [
       "(-148.2512939363146, 0.0)"
      ]
     },
     "execution_count": 44,
     "metadata": {},
     "output_type": "execute_result"
    }
   ],
   "source": [
    "stat, pval = proportions_ztest(len(apps.loc[apps['Type'] == 'Paid']), len(apps), 0.50)\n",
    "stat, pval*2"
   ]
  },
  {
   "cell_type": "markdown",
   "metadata": {},
   "source": [
    "The z-stat is very large, and the pvalue is pretty much zero, so we can state that the proportion of paid apps is less than 50%, and therefore there is a larger proportion of free apps than there are paid apps. "
   ]
  },
  {
   "cell_type": "markdown",
   "metadata": {},
   "source": [
    "### Are medical apps installed at a statistically higher rate than the rest of the apps?"
   ]
  },
  {
   "cell_type": "code",
   "execution_count": 45,
   "metadata": {},
   "outputs": [],
   "source": [
    "prop_medical = (np.sum(apps.loc[apps['Category'] == 'MEDICAL'].loc[apps['Type'] == 'Paid']['Installs'])\\\n",
    "                /np.sum(apps.loc[apps['Category'] == 'MEDICAL']['Installs']))*100\n",
    "prop_rest = (np.sum(apps.loc[apps['Category'] != 'MEDICAL'].loc[apps['Type'] == 'Paid']['Installs'])\\\n",
    "                /np.sum(apps.loc[apps['Category'] != 'MEDICAL']['Installs']))*100"
   ]
  },
  {
   "cell_type": "code",
   "execution_count": 46,
   "metadata": {},
   "outputs": [
    {
     "data": {
      "text/plain": [
       "(1.4199235935930603, 0.07532621880198209)"
      ]
     },
     "execution_count": 46,
     "metadata": {},
     "output_type": "execute_result"
    }
   ],
   "source": [
    "prop_medical, prop_rest"
   ]
  },
  {
   "cell_type": "markdown",
   "metadata": {},
   "source": [
    "Around 1.4% of all Medicall app installs are paid for, while only about 0.07$ of all other apps are paid for. The hypotheses for this test are:\n",
    "\n",
    "$H_0: p_{medical} \\leq p_{non-medical}$\n",
    "\n",
    "$H_a: p_{medical} > p_{non-medical}$, where $p$ is the proportion of installs that are paid for\n",
    "\n",
    "at a level $\\alpha = 0.05$\n"
   ]
  },
  {
   "cell_type": "code",
   "execution_count": 47,
   "metadata": {},
   "outputs": [
    {
     "data": {
      "text/plain": [
       "0.12332999981986754"
      ]
     },
     "execution_count": 47,
     "metadata": {},
     "output_type": "execute_result"
    }
   ],
   "source": [
    "pooled = ((prop_medical * len(apps.loc[apps['Category'] == 'MEDICAL']['Installs'])) + \\\n",
    "        (prop_rest * len(apps.loc[apps['Category'] != 'MEDICAL']['Installs'])))/len(apps)\n",
    "pooled"
   ]
  },
  {
   "cell_type": "code",
   "execution_count": 48,
   "metadata": {},
   "outputs": [
    {
     "data": {
      "text/plain": [
       "0.01956198049700197"
      ]
     },
     "execution_count": 48,
     "metadata": {},
     "output_type": "execute_result"
    }
   ],
   "source": [
    "SE = np.sqrt(pooled*( 1 - pooled )*((1/len(apps.loc[apps['Category'] == 'MEDICAL']['Installs']))\\\n",
    "                                    + (1/len(apps.loc[apps['Category'] != 'MEDICAL']['Installs']))))\n",
    "SE"
   ]
  },
  {
   "cell_type": "code",
   "execution_count": 49,
   "metadata": {},
   "outputs": [
    {
     "data": {
      "text/plain": [
       "68.73523746724666"
      ]
     },
     "execution_count": 49,
     "metadata": {},
     "output_type": "execute_result"
    }
   ],
   "source": [
    "z = (prop_medical - prop_rest)/SE\n",
    "z"
   ]
  },
  {
   "cell_type": "code",
   "execution_count": 50,
   "metadata": {},
   "outputs": [
    {
     "data": {
      "text/plain": [
       "0.0"
      ]
     },
     "execution_count": 50,
     "metadata": {},
     "output_type": "execute_result"
    }
   ],
   "source": [
    "p_value = stats.norm.sf(abs(z))\n",
    "p_value"
   ]
  },
  {
   "cell_type": "markdown",
   "metadata": {},
   "source": [
    "The p-value is pretty much 0, so we can rule out the null hypothesis that paid apps for the medical category  and other categories are installed at the same rate, and that **medical paid apps are installed higher than the rest**. "
   ]
  },
  {
   "cell_type": "markdown",
   "metadata": {},
   "source": [
    "# Do Family apps have a higher average revenue than other apps?\n",
    "\n",
    "In order to do test this one, I am going to use a one-tailed hypothesis test for a difference in means. First I am going to do a bootstrapping test, and then I am going to use the t test module in scipy.stats. My hypotheses are as follows:\n",
    "\n",
    "H_0: $\\mu_{Family} \\leq \\mu_{not-family}$\n",
    "\n",
    "H_a: $\\mu_{family} > \\mu_{not-communication}$ Where $\\mu$ is the mean revenue of all apps in that category or categories.\n",
    "\n",
    "At an $\\alpha = 0.05$ level. \n",
    "\n",
    "This is after removing the expensive apps in the lifestyle and finance categories"
   ]
  },
  {
   "cell_type": "code",
   "execution_count": 51,
   "metadata": {},
   "outputs": [
    {
     "data": {
      "text/plain": [
       "55272.85225279298"
      ]
     },
     "execution_count": 51,
     "metadata": {},
     "output_type": "execute_result"
    }
   ],
   "source": [
    "emp_mean_diff = np.mean(apps.loc[apps['Category'] == 'FAMILY']['Revenue'])-\\\n",
    "                np.mean(apps.loc[apps['Category'] != 'FAMILY'].loc[apps['Price'] < 200]['Revenue'])\n",
    "emp_mean_diff"
   ]
  },
  {
   "cell_type": "markdown",
   "metadata": {},
   "source": [
    "The empirical difference between apps in the family category and apps not in that category is aroun $55,272. "
   ]
  },
  {
   "cell_type": "code",
   "execution_count": 52,
   "metadata": {},
   "outputs": [],
   "source": [
    "def permutations(data_1, data_2):\n",
    "    \"\"\"This is a function for drawing random drawing without replacement from 2 distributions as if they were 1\"\"\"\n",
    "    data = np.concatenate((data_1, data_2))\n",
    "    perms = np.random.choice(data, len(data))\n",
    "    perm_cat1 = perms[:len(data_1)]\n",
    "    perm_cat2 = perms[len(data_1):]\n",
    "    return perm_cat1, perm_cat2"
   ]
  },
  {
   "cell_type": "code",
   "execution_count": 53,
   "metadata": {},
   "outputs": [],
   "source": [
    "def bootstrap(data_1, data_2, size):\n",
    "    \"\"\"This is a function written to take the mean of the permutations drawn in the above function\"\"\"\n",
    "    boots = np.empty(size)\n",
    "    for i in range(size):\n",
    "        perm_cat1, perm_cat2 = permutations(data_1, data_2)\n",
    "        boots[i] = np.mean(perm_cat1) - np.mean(perm_cat2)\n",
    "    return boots"
   ]
  },
  {
   "cell_type": "code",
   "execution_count": 54,
   "metadata": {},
   "outputs": [],
   "source": [
    "theo_mean_diffs = bootstrap(apps.loc[apps['Category'] == 'FAMILY']['Revenue'],\\\n",
    "                            apps.loc[apps['Category'] != 'FAMILY'].loc[apps['Price']<200]['Revenue'],10000)"
   ]
  },
  {
   "cell_type": "code",
   "execution_count": 55,
   "metadata": {},
   "outputs": [
    {
     "data": {
      "text/plain": [
       "0.0358"
      ]
     },
     "execution_count": 55,
     "metadata": {},
     "output_type": "execute_result"
    }
   ],
   "source": [
    "p = np.sum(theo_mean_diffs >= emp_mean_diff)/ float((len(theo_mean_diffs)))\n",
    "p*2"
   ]
  },
  {
   "cell_type": "code",
   "execution_count": 56,
   "metadata": {},
   "outputs": [
    {
     "data": {
      "image/png": "[encoded data removed]",
      "text/plain": [
       "<Figure size 432x288 with 1 Axes>"
      ]
     },
     "metadata": {},
     "output_type": "display_data"
    }
   ],
   "source": [
    "#Interesting. There seems to be multiple peaks in the distribution\n",
    "_ = plt.hist(theo_mean_diffs,bins = 50)\n",
    "_ = plt.axvline(emp_mean_diff, color='r', linestyle='dashed', linewidth=1)\n",
    "_ = plt.title('Theoretical Mean from Bootstrapping')\n",
    "_ = plt.ylabel('Count')\n",
    "_ = plt.xlabel('Theoretical Mean')"
   ]
  },
  {
   "cell_type": "code",
   "execution_count": 57,
   "metadata": {},
   "outputs": [
    {
     "data": {
      "text/plain": [
       "0.02669842400353754"
      ]
     },
     "execution_count": 57,
     "metadata": {},
     "output_type": "execute_result"
    }
   ],
   "source": [
    "t_fam_rest = stats.ttest_ind(apps.loc[apps['Category']=='FAMILY']['Revenue']\\\n",
    "                                   , apps.loc[apps['Category'] != 'FAMILY'].loc[apps['Price'] < 200]['Revenue'])\n",
    "t_fam_rest.pvalue *2 "
   ]
  },
  {
   "cell_type": "markdown",
   "metadata": {},
   "source": [
    "I get slightly different answers from both tests, but both scores allow me to reject the null hypothesis that the mean revenue from apps in the family category is less than or equal to the mean revenue from apps in all other categories.  "
   ]
  },
  {
   "cell_type": "markdown",
   "metadata": {},
   "source": [
    "# Do Communication Apps have the highest install rate?\n",
    "\n",
    "In order to do test this one, I am going to use a one-tailed hypothesis test for a difference in means. First I am going to do a bootstrapping test, and then I am going to use the t test module in scipy.stats. My hypotheses are as follows:\n",
    "\n",
    "H_0: $\\mu_{Communication} \\leq \\mu_{not-communication}$\n",
    "\n",
    "H_a: $\\mu_{communication} > \\mu_{not-communication}$ Where $\\mu$ is the mean number of installs of all apps in that category or categories.\n",
    "\n",
    "At an $\\alpha = 0.05$ level. \n",
    "\n"
   ]
  },
  {
   "cell_type": "code",
   "execution_count": 58,
   "metadata": {},
   "outputs": [
    {
     "data": {
      "text/plain": [
       "34862463.82636811"
      ]
     },
     "execution_count": 58,
     "metadata": {},
     "output_type": "execute_result"
    }
   ],
   "source": [
    "emp_mean_diff2 = np.mean(apps.loc[apps['Category'] == 'COMMUNICATION']['Installs'])-\\\n",
    "                np.mean(apps.loc[apps['Category'] != 'COMMUNICATION']['Installs'])\n",
    "emp_mean_diff2"
   ]
  },
  {
   "cell_type": "code",
   "execution_count": 59,
   "metadata": {},
   "outputs": [],
   "source": [
    "theo_mean_diffs2 = bootstrap(apps.loc[apps['Category'] == 'COMMUNICATION']['Installs'],\\\n",
    "                            apps.loc[apps['Category'] != 'COMMUNICATION']['Installs'],10000)"
   ]
  },
  {
   "cell_type": "code",
   "execution_count": 60,
   "metadata": {},
   "outputs": [
    {
     "data": {
      "text/plain": [
       "0.0"
      ]
     },
     "execution_count": 60,
     "metadata": {},
     "output_type": "execute_result"
    }
   ],
   "source": [
    "p2 = np.sum(theo_mean_diffs2 >= emp_mean_diff2)/ float((len(theo_mean_diffs2)))\n",
    "p2*2"
   ]
  },
  {
   "cell_type": "code",
   "execution_count": 61,
   "metadata": {},
   "outputs": [
    {
     "data": {
      "image/png": "[encoded data removed]",
      "text/plain": [
       "<Figure size 432x288 with 1 Axes>"
      ]
     },
     "metadata": {},
     "output_type": "display_data"
    }
   ],
   "source": [
    "#Interesting. There seems to be multiple peaks in the distribution\n",
    "_ = plt.hist(theo_mean_diffs2,bins = 50)\n",
    "_ = plt.axvline(emp_mean_diff2, color='r', linestyle='dashed', linewidth=1)\n",
    "_ = plt.title('Theoretical Mean from Bootstrapping')\n",
    "_ = plt.ylabel('Count')\n",
    "_ = plt.xlabel('Theoretical Mean')"
   ]
  },
  {
   "cell_type": "code",
   "execution_count": 62,
   "metadata": {},
   "outputs": [
    {
     "data": {
      "text/plain": [
       "5.4700941799539975e-21"
      ]
     },
     "execution_count": 62,
     "metadata": {},
     "output_type": "execute_result"
    }
   ],
   "source": [
    "t_com_rest = stats.ttest_ind(apps.loc[apps['Category']=='COMMUNICATION']['Installs']\\\n",
    "                                   , apps.loc[apps['Category'] != 'COMMUNICATION']['Installs'])\n",
    "t_com_rest.pvalue *2 "
   ]
  },
  {
   "cell_type": "markdown",
   "metadata": {},
   "source": [
    "Pretty much none of the boostrapped mean differences are as extreme as the difference in the data. I also got a very small number from the t-test at the order of $10^{-21}$. This means that I can reject the null-hypothesis that communication apps are have a smaller or equal install rate than the rest of the categories."
   ]
  },
  {
   "cell_type": "markdown",
   "metadata": {},
   "source": [
    "# Of categories with more than 10 paid apps, do Health and Fitness apps have the highest median number of installs?\n",
    "\n",
    "For this test, I am going to use these hypotheses for a one-tailed test:\n",
    "\n",
    "H_0: $M_{Health-and-fitness} \\leq M_{not-health-and-fitness}$\n",
    "\n",
    "H_a: $M_{Health-and-fitness} > M_{not-health-and-fitness}$ Where $M$ is the median number of installs of paid apps in that category or categories.\n",
    "\n",
    "At an $\\alpha = 0.05$ level. "
   ]
  },
  {
   "cell_type": "code",
   "execution_count": 63,
   "metadata": {},
   "outputs": [
    {
     "data": {
      "text/plain": [
       "['COMMUNICATION',\n",
       " 'FINANCE',\n",
       " 'HEALTH_AND_FITNESS',\n",
       " 'LIFESTYLE',\n",
       " 'GAME',\n",
       " 'FAMILY',\n",
       " 'MEDICAL',\n",
       " 'PHOTOGRAPHY',\n",
       " 'SPORTS',\n",
       " 'TOOLS',\n",
       " 'PERSONALIZATION',\n",
       " 'PRODUCTIVITY']"
      ]
     },
     "execution_count": 63,
     "metadata": {},
     "output_type": "execute_result"
    }
   ],
   "source": [
    "cat_10 = [x for x in apps['Category'].unique() if len(apps.loc[apps['Category'] == x].loc[apps['Type'] == 'Paid']['Installs']) > 10]\n",
    "cat_10\n"
   ]
  },
  {
   "cell_type": "code",
   "execution_count": 64,
   "metadata": {},
   "outputs": [],
   "source": [
    "stat, p = stats.kruskal(apps.loc[apps['Category'] == 'HEALTH_AND_FITNESS'].loc[apps['Type'] == 'Paid']['Installs'],\\\n",
    "             apps.loc[apps['Category'].isin(cat_10)].loc[apps['Type'] == 'Paid']['Installs'])"
   ]
  },
  {
   "cell_type": "code",
   "execution_count": 65,
   "metadata": {},
   "outputs": [
    {
     "data": {
      "text/plain": [
       "0.1305123406208326"
      ]
     },
     "execution_count": 65,
     "metadata": {},
     "output_type": "execute_result"
    }
   ],
   "source": [
    "p*2 #Because its a one sided test, multiply the p-value by 2"
   ]
  },
  {
   "cell_type": "markdown",
   "metadata": {},
   "source": [
    "This does not pass the test. We cannot reject the null hypothesis that paid Health and Fitness Apps garner the most installations. "
   ]
  },
  {
   "cell_type": "markdown",
   "metadata": {},
   "source": [
    "Here, I perform the same test, except with the mean, and testing to see if the mean installs of paid apps is significantly greater for gaming apps than the rest. "
   ]
  },
  {
   "cell_type": "code",
   "execution_count": 66,
   "metadata": {},
   "outputs": [
    {
     "data": {
      "text/plain": [
       "174319.51389160636"
      ]
     },
     "execution_count": 66,
     "metadata": {},
     "output_type": "execute_result"
    }
   ],
   "source": [
    "emp_mean_diff3 = np.mean(apps.loc[apps['Category'] == 'GAME'].loc[apps['Type'] == 'Paid']['Installs'])-\\\n",
    "                np.mean(apps.loc[apps['Category'].isin(cat_10)].loc[apps['Type'] == 'Paid']['Installs'])\n",
    "emp_mean_diff3"
   ]
  },
  {
   "cell_type": "code",
   "execution_count": 67,
   "metadata": {},
   "outputs": [],
   "source": [
    "theo_mean_diffs3 = bootstrap(apps.loc[apps['Category'] == 'GAME'].loc[apps['Type'] == 'Paid']['Installs'],\\\n",
    "                            apps.loc[apps['Category'].isin(cat_10)].loc[apps['Type'] == 'Paid']['Installs'],10000)"
   ]
  },
  {
   "cell_type": "code",
   "execution_count": 68,
   "metadata": {},
   "outputs": [
    {
     "data": {
      "text/plain": [
       "0.1004"
      ]
     },
     "execution_count": 68,
     "metadata": {},
     "output_type": "execute_result"
    }
   ],
   "source": [
    "p3 = np.sum(theo_mean_diffs3 >= emp_mean_diff3)/ float((len(theo_mean_diffs3)))\n",
    "p3*2"
   ]
  },
  {
   "cell_type": "code",
   "execution_count": 69,
   "metadata": {},
   "outputs": [
    {
     "data": {
      "image/png": "[encoded data removed]",
      "text/plain": [
       "<Figure size 432x288 with 1 Axes>"
      ]
     },
     "metadata": {},
     "output_type": "display_data"
    }
   ],
   "source": [
    "#Interesting. There seems to be multiple peaks in the distribution\n",
    "_ = plt.hist(theo_mean_diffs3,bins = 50)\n",
    "_ = plt.axvline(emp_mean_diff3, color='r', linestyle='dashed', linewidth=1)\n",
    "_ = plt.title('Theoretical Mean from Bootstrapping')\n",
    "_ = plt.ylabel('Count')\n",
    "_ = plt.xlabel('Theoretical Mean')"
   ]
  },
  {
   "cell_type": "code",
   "execution_count": 70,
   "metadata": {},
   "outputs": [
    {
     "data": {
      "text/plain": [
       "0.09931167869116528"
      ]
     },
     "execution_count": 70,
     "metadata": {},
     "output_type": "execute_result"
    }
   ],
   "source": [
    "t_game_rest = stats.ttest_ind(apps.loc[apps['Category'] == 'GAME'].loc[apps['Type'] == 'Paid']['Installs']\\\n",
    "                                   , apps.loc[apps['Category'].isin(cat_10)].loc[apps['Type'] == 'Paid']['Installs'])\n",
    "t_game_rest.pvalue *2 "
   ]
  },
  {
   "cell_type": "markdown",
   "metadata": {},
   "source": [
    "I found out that games do not, at an $\\alpha = 0.05$ level, have a higher rate of installs for paid apps than other categories. The alpha level is pretty low though, at 0.09 to 0.10. So though I cannot rule it out, there is still a possibility. "
   ]
  },
  {
   "cell_type": "markdown",
   "metadata": {},
   "source": [
    "## Checking to see if the correlation between avg_rating and number of installs is actually present. \n",
    "\n",
    "$H_0: R^2 \\leq 0$\n",
    "\n",
    "$H_a R^2 > 0$ where $R^2$ is the squared pearson correlation coefficient between number of installs and the average rating of an app.\n",
    "\n",
    "At an $\\alpha = 0.05$ "
   ]
  },
  {
   "cell_type": "code",
   "execution_count": 111,
   "metadata": {},
   "outputs": [
    {
     "data": {
      "text/plain": [
       "0.0030384559455486275"
      ]
     },
     "execution_count": 111,
     "metadata": {},
     "output_type": "execute_result"
    }
   ],
   "source": [
    "corr = np.corrcoef(reviews['Installs'], reviews['avg_rating'])[0,1]**2\n",
    "corr"
   ]
  },
  {
   "cell_type": "code",
   "execution_count": 129,
   "metadata": {},
   "outputs": [],
   "source": [
    "def check_corr(df, col1, col2, corr):\n",
    "    perm_data = np.empty(10000)\n",
    "\n",
    "    \"\"\"The purpose of this function is to shuffle the pairs without replacement and see how if the correlation between Installs and \n",
    "    average rating of the apps is statistically significant. Returns array of correlations and p-value\"\"\"\n",
    "    for i in range(10000):\n",
    "    \n",
    "        shuffled = df[[col1,col2]].sample(frac = 1)\n",
    "    \n",
    "        permuted = np.random.choice(list(shuffled[col1]), len(shuffled[col1]), replace = False)\n",
    "        shuffled_frame = pd.DataFrame({col1:permuted, col2: list(shuffled[col2].values)})\n",
    "    \n",
    "        perm_data[i] = (np.corrcoef(shuffled_frame[col1], shuffled_frame[col2])[0,1]**2)\n",
    "        \n",
    "        p = np.sum(perm_data >= corr)/ float(len(perm_data))\n",
    "\n",
    "    return perm_data, p"
   ]
  },
  {
   "cell_type": "code",
   "execution_count": 124,
   "metadata": {},
   "outputs": [
    {
     "name": "stderr",
     "output_type": "stream",
     "text": [
      "C:\\Users\\miste\\Miniconda3\\envs\\py36\\lib\\site-packages\\ipykernel_launcher.py:15: RuntimeWarning: invalid value encountered in greater_equal\n",
      "  from ipykernel import kernelapp as app\n"
     ]
    }
   ],
   "source": [
    "perm_corr, p = check_corr(reviews, 'Installs','avg_rating', corr)"
   ]
  },
  {
   "cell_type": "code",
   "execution_count": 125,
   "metadata": {},
   "outputs": [
    {
     "data": {
      "text/plain": [
       "0.217"
      ]
     },
     "execution_count": 125,
     "metadata": {},
     "output_type": "execute_result"
    }
   ],
   "source": [
    "p*2"
   ]
  },
  {
   "cell_type": "code",
   "execution_count": 121,
   "metadata": {},
   "outputs": [
    {
     "data": {
      "image/png": "[encoded data removed]",
      "text/plain": [
       "<Figure size 432x288 with 1 Axes>"
      ]
     },
     "metadata": {},
     "output_type": "display_data"
    }
   ],
   "source": [
    "_ = plt.hist(perm_corr,bins = 50)\n",
    "_ = plt.axvline(corr, color='r', linestyle='dashed', linewidth=1)\n",
    "_ = plt.title('Correlation from Permuted Data')\n",
    "_ = plt.ylabel('Count')\n",
    "_ = plt.xlabel('Correlation')"
   ]
  },
  {
   "cell_type": "markdown",
   "metadata": {},
   "source": [
    "As you can see, the correlation of 0.003 is well within the boundary of what can happen from a completely random distribution. The p-value is also $>>$ than the $\\alpha$ confidence level of 0.05. We cannot dismiss the null hypothesis that the correlation between the average rating and number of installs is 0. "
   ]
  },
  {
   "cell_type": "code",
   "execution_count": 87,
   "metadata": {},
   "outputs": [
    {
     "name": "stdout",
     "output_type": "stream",
     "text": [
      "<class 'pandas.core.frame.DataFrame'>\n",
      "RangeIndex: 8207 entries, 0 to 8206\n",
      "Data columns (total 14 columns):\n",
      "App               8207 non-null object\n",
      "Category          8207 non-null object\n",
      "Rating            8207 non-null float64\n",
      "Reviews           8207 non-null int64\n",
      "Size              8207 non-null float64\n",
      "Installs          8207 non-null int64\n",
      "Type              8207 non-null object\n",
      "Price             8207 non-null float64\n",
      "Content Rating    8207 non-null object\n",
      "Genres            8207 non-null object\n",
      "Last Updated      8207 non-null object\n",
      "Current Ver       8207 non-null object\n",
      "Android Ver       8207 non-null object\n",
      "Revenue           8207 non-null float64\n",
      "dtypes: float64(4), int64(2), object(8)\n",
      "memory usage: 897.7+ KB\n"
     ]
    }
   ],
   "source": [
    "apps.info()"
   ]
  },
  {
   "cell_type": "code",
   "execution_count": 35,
   "metadata": {},
   "outputs": [],
   "source": [
    "dummies = pd.get_dummies(apps, columns = ['Category','Content Rating','Type'])"
   ]
  },
  {
   "cell_type": "code",
   "execution_count": 36,
   "metadata": {},
   "outputs": [
    {
     "data": {
      "text/plain": [
       "(8207, 52)"
      ]
     },
     "execution_count": 36,
     "metadata": {},
     "output_type": "execute_result"
    }
   ],
   "source": [
    "dummies.shape"
   ]
  },
  {
   "cell_type": "code",
   "execution_count": 91,
   "metadata": {},
   "outputs": [
    {
     "data": {
      "image/png": "[encoded data removed]",
      "text/plain": [
       "<Figure size 432x288 with 1 Axes>"
      ]
     },
     "metadata": {},
     "output_type": "display_data"
    }
   ],
   "source": [
    "#Checking principal Component analysis\n",
    "from sklearn.decomposition import PCA\n",
    "pca = PCA()\n",
    "model = pca.fit(apps.drop(['App','Content Rating','Type','Category','Genres','Last Updated','Current Ver','Android Ver'],axis = 1))\n",
    "_ = plt.plot(range(len(model.explained_variance_)), model.explained_variance_ratio_)\n"
   ]
  },
  {
   "cell_type": "code",
   "execution_count": 38,
   "metadata": {},
   "outputs": [
    {
     "data": {
      "text/plain": [
       "array([9.99028676e-01, 7.08038201e-04, 2.63286102e-04, 1.15518833e-13,\n",
       "       7.74926996e-14, 8.43823259e-17])"
      ]
     },
     "execution_count": 38,
     "metadata": {},
     "output_type": "execute_result"
    }
   ],
   "source": [
    "model.explained_variance_ratio_"
   ]
  },
  {
   "cell_type": "code",
   "execution_count": null,
   "metadata": {},
   "outputs": [],
   "source": []
  },
  {
   "cell_type": "code",
   "execution_count": null,
   "metadata": {},
   "outputs": [],
   "source": []
  },
  {
   "cell_type": "code",
   "execution_count": null,
   "metadata": {},
   "outputs": [],
   "source": []
  },
  {
   "cell_type": "code",
   "execution_count": null,
   "metadata": {},
   "outputs": [],
   "source": []
  },
  {
   "cell_type": "code",
   "execution_count": null,
   "metadata": {},
   "outputs": [],
   "source": []
  }
 ],
 "metadata": {
  "kernelspec": {
   "display_name": "Python 3",
   "language": "python",
   "name": "python3"
  },
  "language_info": {
   "codemirror_mode": {
    "name": "ipython",
    "version": 3
   },
   "file_extension": ".py",
   "mimetype": "text/x-python",
   "name": "python",
   "nbconvert_exporter": "python",
   "pygments_lexer": "ipython3",
   "version": "3.6.5"
  }
 },
 "nbformat": 4,
 "nbformat_minor": 2
}
